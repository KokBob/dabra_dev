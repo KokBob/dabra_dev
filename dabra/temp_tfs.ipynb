{
 "cells": [
  {
   "cell_type": "markdown",
   "id": "916563c5",
   "metadata": {},
   "source": [
    "Only for use within Bosch Research and Advance Engineering. Integration in products, distribution or other cession to third parties is not permitted without explicit consent of the responsible SPF within CR which delivers the software.\n",
    "\n",
    "Authors: Ali Keysan (CR/AIR4.2), Barbara Rakitsch (CR/AIR4.2)\n",
    "\n",
    "# Payload Estimation\n",
    "\n",
    "This jupyter notebooks shows how the payload of a wheel loader can be estimated using hybrid modeling and Transformers.\n",
    "\n",
    "\n",
    "## Hybrid Modeling\n",
    "\n",
    "We apply the design pattern \"Physics-Based Preprocessing\", i.e. we first apply the physical model and then feed its output (and some intermediate results) to the Transformer.\n",
    "\n",
    "![figs/Preprocessing.svg](figs/Preprocessing.svg)\n",
    "\n",
    "Please see [Hybrid Modeling Handbook](https://hym-handbook.ai.bosch.com/Design_Patterns.html) for a more detailed description.\n",
    "\n",
    "\n",
    "## Transformers\n",
    "\n",
    "Transformer describe a deep learning architecture that can extract features from time-series data of arbitrary length.\n",
    "\n",
    "![figs/transformer.png](figs/transformer.png)\n",
    "\n",
    "In the following, we write X=(x_1,…, x_T) to denote a sequence of raw inputs and, analogously, P(X)=(p_1, …, p_T) to denote a sequence of physical preprocessed features.\n",
    "\n",
    "\n",
    "Please see the paper [Attention Is All You Need](https://arxiv.org/pdf/1706.03762.pdf) for a more detailed description.\n",
    "\n",
    "## Ideas\n",
    "We mark ideas that we think that are worthful noting with the hash-tag idea."
   ]
  },
  {
   "cell_type": "markdown",
   "id": "0e23ca21-2462-411e-9a74-a9271f179608",
   "metadata": {
    "tags": []
   },
   "source": [
    "# Instructions\n",
    "\n",
    "Before running the jupyter notebook, please perform the following steps:\n",
    "\n",
    "1. Create folder _'res'_ in the same directory as the _.ipynb_ file and put the data folder _'csv'_ in the _'res'_ folder. The _csv_ folder contains the original training data, balanced training data and validation snippets.\n",
    "2. Create the folders _'models/checkpoints'_ and _'models/trained_ensemble'_ in the same directory as the _.ipynb_ file. The first folder is used to checkpoint the models during training, the second folder is used to save the current best solution.\n",
    "3. Create the folders _'out/figures'_ and _'out/predictions'_ in the same directory as the _.ipynb_ file.\n",
    "4. Create the conda environement using the command _conda env create -f environment.yml_.\n",
    "\n",
    "\n",
    "Start the jupyter notebook from the python environement _payloadmodel_  and run the notebook one cell after another."
   ]
  },
  {
   "cell_type": "code",
   "execution_count": 1,
   "id": "9de71fc0-38a3-45d4-94f8-c36d12a6cb48",
   "metadata": {
    "execution": {
     "iopub.execute_input": "2022-12-04T22:24:33.201788Z",
     "iopub.status.busy": "2022-12-04T22:24:33.200787Z",
     "iopub.status.idle": "2022-12-04T22:25:25.673223Z",
     "shell.execute_reply": "2022-12-04T22:25:25.673223Z",
     "shell.execute_reply.started": "2022-12-04T22:24:33.200787Z"
    },
    "tags": []
   },
   "outputs": [],
   "source": [
    "# import packages\n",
    "import torch\n",
    "import torch.nn as nn\n",
    "import torch.nn.functional as F\n",
    "from torch.utils.data import DataLoader, TensorDataset\n",
    "\n",
    "import numpy as np\n",
    "from numpy.polynomial import polynomial as P\n",
    "from scipy import signal\n",
    "from distutils.dir_util import copy_tree\n",
    "import pandas as pd\n",
    "import math\n",
    "import shutil\n",
    "import glob\n",
    "import os\n",
    "import matplotlib.pyplot as plt\n",
    "plt.style.use('dark_background')\n",
    "# plt.style.use('default')\n",
    "\n",
    "from importlib import reload"
   ]
  },
  {
   "cell_type": "code",
   "execution_count": 2,
   "id": "9931a1a3-881f-41e2-8c6d-24a00a05a459",
   "metadata": {
    "execution": {
     "iopub.execute_input": "2022-12-04T22:25:29.315496Z",
     "iopub.status.busy": "2022-12-04T22:25:29.315496Z",
     "iopub.status.idle": "2022-12-04T22:25:29.931128Z",
     "shell.execute_reply": "2022-12-04T22:25:29.931128Z",
     "shell.execute_reply.started": "2022-12-04T22:25:29.315496Z"
    },
    "tags": []
   },
   "outputs": [
    {
     "data": {
      "text/plain": [
       "device(type='cpu')"
      ]
     },
     "execution_count": 2,
     "metadata": {},
     "output_type": "execute_result"
    }
   ],
   "source": [
    "# setting device for pytorch\n",
    "device = torch.device('cuda:0' if torch.cuda.is_available() else 'cpu')\n",
    "device"
   ]
  },
  {
   "cell_type": "code",
   "execution_count": 3,
   "id": "f6bca7fc",
   "metadata": {},
   "outputs": [
    {
     "name": "stdout",
     "output_type": "stream",
     "text": [
      "Number of training files (balanced): 131\n",
      "Number of training files (original): 51\n",
      "Number of validation files: 6645\n"
     ]
    }
   ],
   "source": [
    "# filenames\n",
    "filenames = {}\n",
    "filenames[\"data_training_balanced\"] = glob.glob(os.path.join('res/csv/Balanced TrainingData/**', \"*.csv\"))\n",
    "filenames[\"sim_training_balanced\"] = glob.glob(os.path.join('res/csv/Balanced TrainingSimulations/**', \"*.csv\"))\n",
    "print('Number of training files (balanced): %d'%len(filenames[\"data_training_balanced\"]))\n",
    "assert len(filenames[\"data_training_balanced\"])==len(filenames[\"sim_training_balanced\"])\n",
    "\n",
    "filenames[\"data_training_org\"] = glob.glob(os.path.join('res/csv/TrainingData', \"*.csv\"))\n",
    "filenames[\"sim_training_org\"] = glob.glob(os.path.join('res/csv/TrainingSimulations', \"*.csv\"))\n",
    "print('Number of training files (original): %d'%len(filenames[\"data_training_org\"]))\n",
    "assert len(filenames[\"data_training_org\"])==len(filenames[\"sim_training_org\"])\n",
    "\n",
    "filenames[\"data_validation\"] = glob.glob(os.path.join('res/csv/TestSnippets', \"*.csv\"))\n",
    "filenames[\"sim_validation\"] = glob.glob(os.path.join('res/csv/TestSnippetsSimulations', \"*.csv\"))\n",
    "print('Number of validation files: %d'%len(filenames[\"data_validation\"]))\n",
    "assert len(filenames[\"data_validation\"])==len(filenames[\"sim_validation\"])"
   ]
  },
  {
   "cell_type": "markdown",
   "id": "e32af5a3-d60c-4446-8db3-21b672d9f86d",
   "metadata": {
    "jp-MarkdownHeadingCollapsed": true,
    "tags": []
   },
   "source": [
    "# Training Data"
   ]
  },
  {
   "cell_type": "code",
   "execution_count": 4,
   "id": "ad48211a",
   "metadata": {},
   "outputs": [],
   "source": [
    "# columns order and renaming for data files\n",
    "reindex_columns = list(pd.read_csv(filenames[\"data_training_org\"][0])) # columns order\n",
    "reindex_columns[0] = 'time' # rename first column from time_s to time\n",
    "\n",
    "rename_columns ={'time_s':'time', 'Jystk_Bm_raw': 'Jystk_Bm_Raw', 'Jystk_Tlt_raw': 'Jystk_Tlt_Raw'}"
   ]
  },
  {
   "cell_type": "code",
   "execution_count": 5,
   "id": "f1132bdc-e1c4-49ef-9176-54b8c79e9cdd",
   "metadata": {
    "execution": {
     "iopub.execute_input": "2022-12-04T22:28:55.812621Z",
     "iopub.status.busy": "2022-12-04T22:28:55.812621Z",
     "iopub.status.idle": "2022-12-04T22:29:06.929578Z",
     "shell.execute_reply": "2022-12-04T22:29:06.929578Z",
     "shell.execute_reply.started": "2022-12-04T22:28:55.812621Z"
    },
    "tags": []
   },
   "outputs": [],
   "source": [
    "def load_csv_file(fn, rename_columns=None, reindex_columns=None, round_time=False):\n",
    "    # load csv file into pandas dataframe\n",
    "    df = pd.read_csv(fn)\n",
    "    if rename_columns is not None: df = df.rename(columns=rename_columns)\n",
    "    if reindex_columns is not None: df = df.reindex(columns=reindex_columns)\n",
    "    if round_time: df['time'] = round(df['time'], 2)\n",
    "    return df\n",
    "\n",
    "def load_csv_files_batch(fns, rename_columns=None, reindex_columns=None, round_time=False):\n",
    "    # load a set of csv files into a joint pandas dataframe\n",
    "    df_list = []\n",
    "    for fn in fns:\n",
    "        df = load_csv_file(fn, rename_columns=rename_columns, reindex_columns=reindex_columns, round_time=round_time)\n",
    "        df_list.append(df)\n",
    "    df = pd.concat(df_list, ignore_index=True)\n",
    "    return df"
   ]
  },
  {
   "cell_type": "code",
   "execution_count": 6,
   "id": "4dad2a3b-0223-4256-a417-e29e6e768af6",
   "metadata": {
    "execution": {
     "iopub.execute_input": "2022-12-04T22:29:14.999193Z",
     "iopub.status.busy": "2022-12-04T22:29:14.999193Z",
     "iopub.status.idle": "2022-12-04T22:29:15.403386Z",
     "shell.execute_reply": "2022-12-04T22:29:15.400375Z",
     "shell.execute_reply.started": "2022-12-04T22:29:14.999193Z"
    },
    "tags": []
   },
   "outputs": [
    {
     "data": {
      "text/html": [
       "<div>\n",
       "<style scoped>\n",
       "    .dataframe tbody tr th:only-of-type {\n",
       "        vertical-align: middle;\n",
       "    }\n",
       "\n",
       "    .dataframe tbody tr th {\n",
       "        vertical-align: top;\n",
       "    }\n",
       "\n",
       "    .dataframe thead th {\n",
       "        text-align: right;\n",
       "    }\n",
       "</style>\n",
       "<table border=\"1\" class=\"dataframe\">\n",
       "  <thead>\n",
       "    <tr style=\"text-align: right;\">\n",
       "      <th></th>\n",
       "      <th>time</th>\n",
       "      <th>p_boom_hd_bar</th>\n",
       "      <th>p_boom_rd_bar</th>\n",
       "      <th>p_tilt_hd_bar</th>\n",
       "      <th>p_tilt_rd_bar</th>\n",
       "      <th>IMU_MM710_Chassis_accX_raw</th>\n",
       "      <th>IMU_MM710_Chassis_accY_raw</th>\n",
       "      <th>IMU_MM710_Chassis_accZ_raw</th>\n",
       "      <th>IMU_MM710_Chassis_omX_raw</th>\n",
       "      <th>IMU_MM710_Chassis_omY_raw</th>\n",
       "      <th>...</th>\n",
       "      <th>flg_Jystck_NeutHld</th>\n",
       "      <th>t_PR4_BmRdRigh_gradC</th>\n",
       "      <th>t_PR4_BmHdLeft_gradC</th>\n",
       "      <th>t_PR4_BmRdLeft_gradC</th>\n",
       "      <th>t_PR4_TltHd_gradC</th>\n",
       "      <th>t_PR4_TltRd_gradC</th>\n",
       "      <th>DRC_VAct_kmph</th>\n",
       "      <th>timeAfterJoyStickUsge_s</th>\n",
       "      <th>m_weigthTool_kg</th>\n",
       "      <th>m_Payload_kg</th>\n",
       "    </tr>\n",
       "  </thead>\n",
       "  <tbody>\n",
       "    <tr>\n",
       "      <th>0</th>\n",
       "      <td>0.01</td>\n",
       "      <td>22.599655</td>\n",
       "      <td>4.599930</td>\n",
       "      <td>4.899925</td>\n",
       "      <td>5.299919</td>\n",
       "      <td>-0.003611</td>\n",
       "      <td>0.011175</td>\n",
       "      <td>-0.993755</td>\n",
       "      <td>-0.070160</td>\n",
       "      <td>0.030151</td>\n",
       "      <td>...</td>\n",
       "      <td>0</td>\n",
       "      <td>40.84</td>\n",
       "      <td>41.75</td>\n",
       "      <td>39.46</td>\n",
       "      <td>38.71</td>\n",
       "      <td>35.28</td>\n",
       "      <td>0.0</td>\n",
       "      <td>0.0</td>\n",
       "      <td>0</td>\n",
       "      <td>0</td>\n",
       "    </tr>\n",
       "    <tr>\n",
       "      <th>1</th>\n",
       "      <td>0.02</td>\n",
       "      <td>22.699654</td>\n",
       "      <td>4.099937</td>\n",
       "      <td>4.699928</td>\n",
       "      <td>5.099922</td>\n",
       "      <td>-0.005268</td>\n",
       "      <td>0.009008</td>\n",
       "      <td>-0.998217</td>\n",
       "      <td>-0.070160</td>\n",
       "      <td>-0.009842</td>\n",
       "      <td>...</td>\n",
       "      <td>0</td>\n",
       "      <td>40.84</td>\n",
       "      <td>41.75</td>\n",
       "      <td>39.46</td>\n",
       "      <td>38.71</td>\n",
       "      <td>35.28</td>\n",
       "      <td>0.0</td>\n",
       "      <td>0.0</td>\n",
       "      <td>0</td>\n",
       "      <td>0</td>\n",
       "    </tr>\n",
       "    <tr>\n",
       "      <th>2</th>\n",
       "      <td>0.03</td>\n",
       "      <td>22.599655</td>\n",
       "      <td>4.399933</td>\n",
       "      <td>5.199921</td>\n",
       "      <td>5.099922</td>\n",
       "      <td>0.000213</td>\n",
       "      <td>0.010410</td>\n",
       "      <td>-0.996432</td>\n",
       "      <td>0.059845</td>\n",
       "      <td>-0.009842</td>\n",
       "      <td>...</td>\n",
       "      <td>0</td>\n",
       "      <td>40.84</td>\n",
       "      <td>41.75</td>\n",
       "      <td>39.46</td>\n",
       "      <td>38.71</td>\n",
       "      <td>35.28</td>\n",
       "      <td>0.0</td>\n",
       "      <td>0.0</td>\n",
       "      <td>0</td>\n",
       "      <td>0</td>\n",
       "    </tr>\n",
       "    <tr>\n",
       "      <th>3</th>\n",
       "      <td>0.05</td>\n",
       "      <td>22.499657</td>\n",
       "      <td>4.299934</td>\n",
       "      <td>4.899925</td>\n",
       "      <td>5.199921</td>\n",
       "      <td>-0.006670</td>\n",
       "      <td>0.012577</td>\n",
       "      <td>-0.991971</td>\n",
       "      <td>0.059845</td>\n",
       "      <td>0.060150</td>\n",
       "      <td>...</td>\n",
       "      <td>0</td>\n",
       "      <td>40.84</td>\n",
       "      <td>41.75</td>\n",
       "      <td>39.46</td>\n",
       "      <td>38.71</td>\n",
       "      <td>35.28</td>\n",
       "      <td>0.0</td>\n",
       "      <td>0.0</td>\n",
       "      <td>0</td>\n",
       "      <td>0</td>\n",
       "    </tr>\n",
       "    <tr>\n",
       "      <th>4</th>\n",
       "      <td>0.06</td>\n",
       "      <td>22.599655</td>\n",
       "      <td>4.399933</td>\n",
       "      <td>5.099922</td>\n",
       "      <td>5.199921</td>\n",
       "      <td>-0.003101</td>\n",
       "      <td>0.012704</td>\n",
       "      <td>-1.002423</td>\n",
       "      <td>-0.030151</td>\n",
       "      <td>0.020157</td>\n",
       "      <td>...</td>\n",
       "      <td>0</td>\n",
       "      <td>40.84</td>\n",
       "      <td>41.75</td>\n",
       "      <td>39.46</td>\n",
       "      <td>38.71</td>\n",
       "      <td>35.28</td>\n",
       "      <td>0.0</td>\n",
       "      <td>0.0</td>\n",
       "      <td>0</td>\n",
       "      <td>0</td>\n",
       "    </tr>\n",
       "    <tr>\n",
       "      <th>...</th>\n",
       "      <td>...</td>\n",
       "      <td>...</td>\n",
       "      <td>...</td>\n",
       "      <td>...</td>\n",
       "      <td>...</td>\n",
       "      <td>...</td>\n",
       "      <td>...</td>\n",
       "      <td>...</td>\n",
       "      <td>...</td>\n",
       "      <td>...</td>\n",
       "      <td>...</td>\n",
       "      <td>...</td>\n",
       "      <td>...</td>\n",
       "      <td>...</td>\n",
       "      <td>...</td>\n",
       "      <td>...</td>\n",
       "      <td>...</td>\n",
       "      <td>...</td>\n",
       "      <td>...</td>\n",
       "      <td>...</td>\n",
       "      <td>...</td>\n",
       "    </tr>\n",
       "    <tr>\n",
       "      <th>1923246</th>\n",
       "      <td>494.50</td>\n",
       "      <td>32.199509</td>\n",
       "      <td>2.099968</td>\n",
       "      <td>9.299858</td>\n",
       "      <td>1.799973</td>\n",
       "      <td>0.006714</td>\n",
       "      <td>0.006204</td>\n",
       "      <td>-0.996432</td>\n",
       "      <td>-0.020157</td>\n",
       "      <td>0.130157</td>\n",
       "      <td>...</td>\n",
       "      <td>0</td>\n",
       "      <td>40.84</td>\n",
       "      <td>41.75</td>\n",
       "      <td>39.46</td>\n",
       "      <td>38.71</td>\n",
       "      <td>35.28</td>\n",
       "      <td>0.0</td>\n",
       "      <td>0.0</td>\n",
       "      <td>604</td>\n",
       "      <td>0</td>\n",
       "    </tr>\n",
       "    <tr>\n",
       "      <th>1923247</th>\n",
       "      <td>494.51</td>\n",
       "      <td>32.299507</td>\n",
       "      <td>1.799973</td>\n",
       "      <td>9.099861</td>\n",
       "      <td>1.899971</td>\n",
       "      <td>0.005821</td>\n",
       "      <td>0.005311</td>\n",
       "      <td>-0.993246</td>\n",
       "      <td>0.029846</td>\n",
       "      <td>0.090149</td>\n",
       "      <td>...</td>\n",
       "      <td>0</td>\n",
       "      <td>40.84</td>\n",
       "      <td>41.75</td>\n",
       "      <td>39.46</td>\n",
       "      <td>38.71</td>\n",
       "      <td>35.28</td>\n",
       "      <td>0.0</td>\n",
       "      <td>0.0</td>\n",
       "      <td>604</td>\n",
       "      <td>0</td>\n",
       "    </tr>\n",
       "    <tr>\n",
       "      <th>1923248</th>\n",
       "      <td>494.52</td>\n",
       "      <td>32.399506</td>\n",
       "      <td>1.899971</td>\n",
       "      <td>9.299858</td>\n",
       "      <td>1.899971</td>\n",
       "      <td>0.009008</td>\n",
       "      <td>0.004164</td>\n",
       "      <td>-0.999619</td>\n",
       "      <td>0.069855</td>\n",
       "      <td>0.010147</td>\n",
       "      <td>...</td>\n",
       "      <td>0</td>\n",
       "      <td>40.84</td>\n",
       "      <td>41.75</td>\n",
       "      <td>39.46</td>\n",
       "      <td>38.71</td>\n",
       "      <td>35.28</td>\n",
       "      <td>0.0</td>\n",
       "      <td>0.0</td>\n",
       "      <td>604</td>\n",
       "      <td>0</td>\n",
       "    </tr>\n",
       "    <tr>\n",
       "      <th>1923249</th>\n",
       "      <td>494.54</td>\n",
       "      <td>32.299507</td>\n",
       "      <td>1.899971</td>\n",
       "      <td>9.299858</td>\n",
       "      <td>1.699974</td>\n",
       "      <td>0.010410</td>\n",
       "      <td>0.004547</td>\n",
       "      <td>-1.003443</td>\n",
       "      <td>-0.020157</td>\n",
       "      <td>-0.009842</td>\n",
       "      <td>...</td>\n",
       "      <td>0</td>\n",
       "      <td>40.84</td>\n",
       "      <td>41.75</td>\n",
       "      <td>39.46</td>\n",
       "      <td>38.71</td>\n",
       "      <td>35.28</td>\n",
       "      <td>0.0</td>\n",
       "      <td>0.0</td>\n",
       "      <td>604</td>\n",
       "      <td>0</td>\n",
       "    </tr>\n",
       "    <tr>\n",
       "      <th>1923250</th>\n",
       "      <td>494.55</td>\n",
       "      <td>32.199509</td>\n",
       "      <td>1.899971</td>\n",
       "      <td>8.999863</td>\n",
       "      <td>1.799973</td>\n",
       "      <td>0.001105</td>\n",
       "      <td>0.005184</td>\n",
       "      <td>-0.994265</td>\n",
       "      <td>-0.030151</td>\n",
       "      <td>0.060150</td>\n",
       "      <td>...</td>\n",
       "      <td>0</td>\n",
       "      <td>40.84</td>\n",
       "      <td>41.75</td>\n",
       "      <td>39.46</td>\n",
       "      <td>38.71</td>\n",
       "      <td>35.28</td>\n",
       "      <td>0.0</td>\n",
       "      <td>0.0</td>\n",
       "      <td>604</td>\n",
       "      <td>0</td>\n",
       "    </tr>\n",
       "  </tbody>\n",
       "</table>\n",
       "<p>1923251 rows × 42 columns</p>\n",
       "</div>"
      ],
      "text/plain": [
       "           time  p_boom_hd_bar  p_boom_rd_bar  p_tilt_hd_bar  p_tilt_rd_bar  \\\n",
       "0          0.01      22.599655       4.599930       4.899925       5.299919   \n",
       "1          0.02      22.699654       4.099937       4.699928       5.099922   \n",
       "2          0.03      22.599655       4.399933       5.199921       5.099922   \n",
       "3          0.05      22.499657       4.299934       4.899925       5.199921   \n",
       "4          0.06      22.599655       4.399933       5.099922       5.199921   \n",
       "...         ...            ...            ...            ...            ...   \n",
       "1923246  494.50      32.199509       2.099968       9.299858       1.799973   \n",
       "1923247  494.51      32.299507       1.799973       9.099861       1.899971   \n",
       "1923248  494.52      32.399506       1.899971       9.299858       1.899971   \n",
       "1923249  494.54      32.299507       1.899971       9.299858       1.699974   \n",
       "1923250  494.55      32.199509       1.899971       8.999863       1.799973   \n",
       "\n",
       "         IMU_MM710_Chassis_accX_raw  IMU_MM710_Chassis_accY_raw  \\\n",
       "0                         -0.003611                    0.011175   \n",
       "1                         -0.005268                    0.009008   \n",
       "2                          0.000213                    0.010410   \n",
       "3                         -0.006670                    0.012577   \n",
       "4                         -0.003101                    0.012704   \n",
       "...                             ...                         ...   \n",
       "1923246                    0.006714                    0.006204   \n",
       "1923247                    0.005821                    0.005311   \n",
       "1923248                    0.009008                    0.004164   \n",
       "1923249                    0.010410                    0.004547   \n",
       "1923250                    0.001105                    0.005184   \n",
       "\n",
       "         IMU_MM710_Chassis_accZ_raw  IMU_MM710_Chassis_omX_raw  \\\n",
       "0                         -0.993755                  -0.070160   \n",
       "1                         -0.998217                  -0.070160   \n",
       "2                         -0.996432                   0.059845   \n",
       "3                         -0.991971                   0.059845   \n",
       "4                         -1.002423                  -0.030151   \n",
       "...                             ...                        ...   \n",
       "1923246                   -0.996432                  -0.020157   \n",
       "1923247                   -0.993246                   0.029846   \n",
       "1923248                   -0.999619                   0.069855   \n",
       "1923249                   -1.003443                  -0.020157   \n",
       "1923250                   -0.994265                  -0.030151   \n",
       "\n",
       "         IMU_MM710_Chassis_omY_raw  ...  flg_Jystck_NeutHld  \\\n",
       "0                         0.030151  ...                   0   \n",
       "1                        -0.009842  ...                   0   \n",
       "2                        -0.009842  ...                   0   \n",
       "3                         0.060150  ...                   0   \n",
       "4                         0.020157  ...                   0   \n",
       "...                            ...  ...                 ...   \n",
       "1923246                   0.130157  ...                   0   \n",
       "1923247                   0.090149  ...                   0   \n",
       "1923248                   0.010147  ...                   0   \n",
       "1923249                  -0.009842  ...                   0   \n",
       "1923250                   0.060150  ...                   0   \n",
       "\n",
       "         t_PR4_BmRdRigh_gradC  t_PR4_BmHdLeft_gradC  t_PR4_BmRdLeft_gradC  \\\n",
       "0                       40.84                 41.75                 39.46   \n",
       "1                       40.84                 41.75                 39.46   \n",
       "2                       40.84                 41.75                 39.46   \n",
       "3                       40.84                 41.75                 39.46   \n",
       "4                       40.84                 41.75                 39.46   \n",
       "...                       ...                   ...                   ...   \n",
       "1923246                 40.84                 41.75                 39.46   \n",
       "1923247                 40.84                 41.75                 39.46   \n",
       "1923248                 40.84                 41.75                 39.46   \n",
       "1923249                 40.84                 41.75                 39.46   \n",
       "1923250                 40.84                 41.75                 39.46   \n",
       "\n",
       "         t_PR4_TltHd_gradC  t_PR4_TltRd_gradC  DRC_VAct_kmph  \\\n",
       "0                    38.71              35.28            0.0   \n",
       "1                    38.71              35.28            0.0   \n",
       "2                    38.71              35.28            0.0   \n",
       "3                    38.71              35.28            0.0   \n",
       "4                    38.71              35.28            0.0   \n",
       "...                    ...                ...            ...   \n",
       "1923246              38.71              35.28            0.0   \n",
       "1923247              38.71              35.28            0.0   \n",
       "1923248              38.71              35.28            0.0   \n",
       "1923249              38.71              35.28            0.0   \n",
       "1923250              38.71              35.28            0.0   \n",
       "\n",
       "         timeAfterJoyStickUsge_s  m_weigthTool_kg  m_Payload_kg  \n",
       "0                            0.0                0             0  \n",
       "1                            0.0                0             0  \n",
       "2                            0.0                0             0  \n",
       "3                            0.0                0             0  \n",
       "4                            0.0                0             0  \n",
       "...                          ...              ...           ...  \n",
       "1923246                      0.0              604             0  \n",
       "1923247                      0.0              604             0  \n",
       "1923248                      0.0              604             0  \n",
       "1923249                      0.0              604             0  \n",
       "1923250                      0.0              604             0  \n",
       "\n",
       "[1923251 rows x 42 columns]"
      ]
     },
     "execution_count": 6,
     "metadata": {},
     "output_type": "execute_result"
    }
   ],
   "source": [
    "# load measurements for training\n",
    "df_meas = load_csv_files_batch(filenames[\"data_training_balanced\"], rename_columns=rename_columns, reindex_columns=reindex_columns, round_time=True)\n",
    "df_meas"
   ]
  },
  {
   "cell_type": "code",
   "execution_count": 7,
   "id": "17de7415-5fcd-4035-9b5e-211159de4a29",
   "metadata": {
    "execution": {
     "iopub.execute_input": "2022-12-04T22:29:20.980191Z",
     "iopub.status.busy": "2022-12-04T22:29:20.979190Z",
     "iopub.status.idle": "2022-12-04T22:29:21.006193Z",
     "shell.execute_reply": "2022-12-04T22:29:21.005191Z",
     "shell.execute_reply.started": "2022-12-04T22:29:20.980191Z"
    },
    "tags": []
   },
   "outputs": [
    {
     "data": {
      "text/html": [
       "<div>\n",
       "<style scoped>\n",
       "    .dataframe tbody tr th:only-of-type {\n",
       "        vertical-align: middle;\n",
       "    }\n",
       "\n",
       "    .dataframe tbody tr th {\n",
       "        vertical-align: top;\n",
       "    }\n",
       "\n",
       "    .dataframe thead th {\n",
       "        text-align: right;\n",
       "    }\n",
       "</style>\n",
       "<table border=\"1\" class=\"dataframe\">\n",
       "  <thead>\n",
       "    <tr style=\"text-align: right;\">\n",
       "      <th></th>\n",
       "      <th>time</th>\n",
       "      <th>m_EstimdPayLoadLive_kg</th>\n",
       "      <th>Tq_JntMeas_Nm[0]</th>\n",
       "      <th>Tq_JntMeas_Nm[1]</th>\n",
       "      <th>FcylAbs_tilt_N</th>\n",
       "      <th>FcylAbs_boom_N</th>\n",
       "    </tr>\n",
       "  </thead>\n",
       "  <tbody>\n",
       "    <tr>\n",
       "      <th>0</th>\n",
       "      <td>0.01</td>\n",
       "      <td>0.000000</td>\n",
       "      <td>-1109.374512</td>\n",
       "      <td>331.224365</td>\n",
       "      <td>1343.207031</td>\n",
       "      <td>30875.103516</td>\n",
       "    </tr>\n",
       "    <tr>\n",
       "      <th>1</th>\n",
       "      <td>0.02</td>\n",
       "      <td>0.000000</td>\n",
       "      <td>158.151764</td>\n",
       "      <td>-281.692078</td>\n",
       "      <td>1276.842041</td>\n",
       "      <td>31534.824219</td>\n",
       "    </tr>\n",
       "    <tr>\n",
       "      <th>2</th>\n",
       "      <td>0.03</td>\n",
       "      <td>0.000000</td>\n",
       "      <td>-852.424438</td>\n",
       "      <td>-554.738281</td>\n",
       "      <td>1796.178467</td>\n",
       "      <td>31076.162109</td>\n",
       "    </tr>\n",
       "    <tr>\n",
       "      <th>3</th>\n",
       "      <td>0.05</td>\n",
       "      <td>0.000000</td>\n",
       "      <td>26.199493</td>\n",
       "      <td>-353.803772</td>\n",
       "      <td>1413.892090</td>\n",
       "      <td>31019.617188</td>\n",
       "    </tr>\n",
       "    <tr>\n",
       "      <th>4</th>\n",
       "      <td>0.06</td>\n",
       "      <td>0.000000</td>\n",
       "      <td>-1117.753540</td>\n",
       "      <td>194.915253</td>\n",
       "      <td>1621.626465</td>\n",
       "      <td>31076.162109</td>\n",
       "    </tr>\n",
       "    <tr>\n",
       "      <th>...</th>\n",
       "      <td>...</td>\n",
       "      <td>...</td>\n",
       "      <td>...</td>\n",
       "      <td>...</td>\n",
       "      <td>...</td>\n",
       "      <td>...</td>\n",
       "    </tr>\n",
       "    <tr>\n",
       "      <th>1923246</th>\n",
       "      <td>494.50</td>\n",
       "      <td>425.162628</td>\n",
       "      <td>10092.654297</td>\n",
       "      <td>-3415.043457</td>\n",
       "      <td>8387.335938</td>\n",
       "      <td>48467.753906</td>\n",
       "    </tr>\n",
       "    <tr>\n",
       "      <th>1923247</th>\n",
       "      <td>494.51</td>\n",
       "      <td>477.544800</td>\n",
       "      <td>11343.609375</td>\n",
       "      <td>-3915.168457</td>\n",
       "      <td>8108.917480</td>\n",
       "      <td>48926.417969</td>\n",
       "    </tr>\n",
       "    <tr>\n",
       "      <th>1923248</th>\n",
       "      <td>494.52</td>\n",
       "      <td>474.338623</td>\n",
       "      <td>11072.265625</td>\n",
       "      <td>-3381.561523</td>\n",
       "      <td>8316.651367</td>\n",
       "      <td>48982.968750</td>\n",
       "    </tr>\n",
       "    <tr>\n",
       "      <th>1923249</th>\n",
       "      <td>494.54</td>\n",
       "      <td>421.643738</td>\n",
       "      <td>10127.185547</td>\n",
       "      <td>-3452.526855</td>\n",
       "      <td>8458.021484</td>\n",
       "      <td>48825.890625</td>\n",
       "    </tr>\n",
       "    <tr>\n",
       "      <th>1923250</th>\n",
       "      <td>494.55</td>\n",
       "      <td>483.328033</td>\n",
       "      <td>11064.362305</td>\n",
       "      <td>-3252.487061</td>\n",
       "      <td>8075.733887</td>\n",
       "      <td>48668.812500</td>\n",
       "    </tr>\n",
       "  </tbody>\n",
       "</table>\n",
       "<p>1923251 rows × 6 columns</p>\n",
       "</div>"
      ],
      "text/plain": [
       "           time  m_EstimdPayLoadLive_kg  Tq_JntMeas_Nm[0]  Tq_JntMeas_Nm[1]  \\\n",
       "0          0.01                0.000000      -1109.374512        331.224365   \n",
       "1          0.02                0.000000        158.151764       -281.692078   \n",
       "2          0.03                0.000000       -852.424438       -554.738281   \n",
       "3          0.05                0.000000         26.199493       -353.803772   \n",
       "4          0.06                0.000000      -1117.753540        194.915253   \n",
       "...         ...                     ...               ...               ...   \n",
       "1923246  494.50              425.162628      10092.654297      -3415.043457   \n",
       "1923247  494.51              477.544800      11343.609375      -3915.168457   \n",
       "1923248  494.52              474.338623      11072.265625      -3381.561523   \n",
       "1923249  494.54              421.643738      10127.185547      -3452.526855   \n",
       "1923250  494.55              483.328033      11064.362305      -3252.487061   \n",
       "\n",
       "         FcylAbs_tilt_N  FcylAbs_boom_N  \n",
       "0           1343.207031    30875.103516  \n",
       "1           1276.842041    31534.824219  \n",
       "2           1796.178467    31076.162109  \n",
       "3           1413.892090    31019.617188  \n",
       "4           1621.626465    31076.162109  \n",
       "...                 ...             ...  \n",
       "1923246     8387.335938    48467.753906  \n",
       "1923247     8108.917480    48926.417969  \n",
       "1923248     8316.651367    48982.968750  \n",
       "1923249     8458.021484    48825.890625  \n",
       "1923250     8075.733887    48668.812500  \n",
       "\n",
       "[1923251 rows x 6 columns]"
      ]
     },
     "execution_count": 7,
     "metadata": {},
     "output_type": "execute_result"
    }
   ],
   "source": [
    "# load outputs of physical model for training\n",
    "df_sim = load_csv_files_batch(filenames[\"sim_training_balanced\"])\n",
    "df_sim"
   ]
  },
  {
   "cell_type": "code",
   "execution_count": 8,
   "id": "ff20361f-2ead-4e98-9a50-816356b08d4a",
   "metadata": {
    "execution": {
     "iopub.execute_input": "2022-12-04T22:29:23.806354Z",
     "iopub.status.busy": "2022-12-04T22:29:23.806354Z",
     "iopub.status.idle": "2022-12-04T22:29:23.836348Z",
     "shell.execute_reply": "2022-12-04T22:29:23.835347Z",
     "shell.execute_reply.started": "2022-12-04T22:29:23.806354Z"
    },
    "tags": []
   },
   "outputs": [],
   "source": [
    "def preprocess_data(s):\n",
    "    # transform each feature with the goal that the transformed feature is uniformly distributed between -1 + 1\n",
    "    # potential transformations:linear, arcsinh, tanh, log\n",
    "    # rule-of-thumb: (arcsin((x-a)/b)-c)/d --> a~mean(x), b~stddev(x)*const, c=mean(arcsin(ax-b)), d=stddev(arcsin(ax-b))\n",
    "    # the feature preprocessing was performed manually by Ali\n",
    "    \n",
    "    #IDEA: this step could also be automized. However, for one competition this might not be worth the effort.\n",
    "    # One should also examine first how much benefit comes from the transformations.\n",
    "    new = np.copy(s)\n",
    "    new[:,0] = new[:,0]/50-1.56\n",
    "    new[:,1] = np.arcsinh(new[:,1]-4)/2\n",
    "    new[:,2] = np.arcsinh(new[:,2]/30-0.5)-1\n",
    "    new[:,3] = np.arcsinh(new[:,3]/2-2.8)/2-0.3\n",
    "    new[:,4] = np.arcsinh(new[:,4]*90+0.9)/2\n",
    "    new[:,5] = np.arcsinh(new[:,5]*200-2)/2\n",
    "    new[:,6] = np.arcsinh(new[:,6]*200+199.6)/2\n",
    "    new[:,7] = np.arcsinh(new[:,7]*8)/2\n",
    "    new[:,8] = np.arcsinh(new[:,8]*8-0.4)/2\n",
    "    new[:,9] = np.arcsinh(new[:,9]*15+0.75)/4\n",
    "    new[:,10] = np.tanh(new[:,10]*3-2.5)*2\n",
    "    new[:,11] = np.tanh(new[:,11]*1.5-0.4)*2\n",
    "    new[:,12] = np.arcsinh(new[:,12]*1000000-5)/10\n",
    "    new[:,13] = np.arcsinh(new[:,13]*200000)/12\n",
    "    new[:,14] = np.arcsinh(new[:,14])/2\n",
    "    new[:,15] = np.tanh(new[:,15]*2-1)*1.5\n",
    "    new[:,16] = np.tanh(new[:,16]+0.5)*2\n",
    "    new[:,17] = np.arcsinh(new[:,17]*500-6)/3\n",
    "    new[:,18] = np.arcsinh(new[:,18]*20000)/10\n",
    "    new[:,19] = np.arcsinh(new[:,19])/3\n",
    "    new[:,20] = new[:,20]*4+6.2\n",
    "    new[:,21] = new[:,21]*2.5-0.85\n",
    "    new[:,22] = (np.arcsinh(new[:,22]*100+1.5)+np.arcsinh(new[:,22]*100-158))/6 # two modes at input distribution\n",
    "    new[:,23] = new[:,23]/250-6.2\n",
    "    new[:,24] = new[:,24]/80-19.2\n",
    "    new[:,25] = np.arcsinh(new[:,25]/4000-0.25)/2-1\n",
    "    new[:,26] = new[:,26]/80000-1.5\n",
    "    new[:,27] = new[:,27]/400\n",
    "    new[:,28] = np.arcsinh(new[:,28]/100)\n",
    "    new[:,29] = new[:,29]*2-1\n",
    "    new[:,30] = new[:,30]*2-1\n",
    "    new[:,31] = new[:,31]*2-1\n",
    "    new[:,32] = new[:,32]/10-2.7\n",
    "    new[:,33] = new[:,33]/10-3.1\n",
    "    new[:,34] = np.arcsinh(new[:,34]/10-3)\n",
    "    new[:,35] = new[:,35]/8-3.875\n",
    "    new[:,36] = new[:,36]/8-3.5\n",
    "    new[:,37] = np.arcsinh(new[:,37])/2\n",
    "    new[:,38] = np.tanh(new[:,38]/20-0.5)*2\n",
    "    return new\n",
    "\n",
    "def preprocess_sim(s):\n",
    "    # transform each physical output with the goal that the transformed feature is uniformly distributed between -1 + 1\n",
    "    # potential transformations:linear, arcsinh, tanh, log\n",
    "    # rule-of-thumb: (arcsin((x-a)/b)-c)/d --> a~mean(x), b~stddev(x)*const, c=mean(arcsin(ax-b)), d=stddev(arcsin(ax-b))\n",
    "    # the feature preprocessing was performed manually by Ali\n",
    "    new = np.copy(s)\n",
    "    new[:,0] = preprocess_output(new[:,0])\n",
    "    new[:,1] = np.arcsinh(new[:,1]/10000+0.05)/1.2-1\n",
    "    new[:,2] = np.arcsinh(new[:,2]/5000)/1.5+1.47\n",
    "    new[:,3] = np.arcsinh(new[:,3]/10000-0.1)/1.5-1.33\n",
    "    new[:,4] = new[:,4]/80000-1.5\n",
    "    return new\n",
    "\n",
    "def preprocess_output(x):\n",
    "    # transform target with the goal that the transformed feature is uniformly distributed between -1 + 1\n",
    "    # potential transformations:linear, arcsinh, tanh, log\n",
    "    # rule-of-thumb: (arcsin((x-a)/b)-c)/d --> a~mean(x), b~stddev(x)*const, c=mean(arcsin(ax-b)), d=stddev(arcsin(ax-b))\n",
    "    # the feature preprocessing was performed manually by Ali\n",
    "    return np.arcsinh(x /1000) - 1\n",
    "\n",
    "def decode_output(x):\n",
    "    # undo transformation for target value\n",
    "    return 1000*np.sinh(x+1)"
   ]
  },
  {
   "cell_type": "code",
   "execution_count": 9,
   "id": "d166954e-450c-4a36-9f44-eea62deb52d3",
   "metadata": {
    "execution": {
     "iopub.execute_input": "2022-12-04T22:29:24.801687Z",
     "iopub.status.busy": "2022-12-04T22:29:24.801687Z",
     "iopub.status.idle": "2022-12-04T22:29:27.338447Z",
     "shell.execute_reply": "2022-12-04T22:29:27.338447Z",
     "shell.execute_reply.started": "2022-12-04T22:29:24.801687Z"
    },
    "tags": []
   },
   "outputs": [
    {
     "data": {
      "text/plain": [
       "(1923251, 39)"
      ]
     },
     "execution_count": 9,
     "metadata": {},
     "output_type": "execute_result"
    }
   ],
   "source": [
    "# convert measurement features from dataframe to numpy and apply preprocessing\n",
    "data_meas = np.copy(df_meas.to_numpy()[:,1:40])\n",
    "data_meas = preprocess_data(data_meas)\n",
    "training_dataset ={}\n",
    "training_dataset['data_meas'] = data_meas\n",
    "training_dataset['data_meas'].shape"
   ]
  },
  {
   "cell_type": "code",
   "execution_count": 10,
   "id": "e2e4bcff-65fa-47f8-94f0-08b0a2f3c880",
   "metadata": {
    "execution": {
     "iopub.execute_input": "2022-12-04T22:29:38.207778Z",
     "iopub.status.busy": "2022-12-04T22:29:38.207778Z",
     "iopub.status.idle": "2022-12-04T22:29:38.557922Z",
     "shell.execute_reply": "2022-12-04T22:29:38.556922Z",
     "shell.execute_reply.started": "2022-12-04T22:29:38.207778Z"
    },
    "tags": []
   },
   "outputs": [
    {
     "data": {
      "text/plain": [
       "(1923251, 5)"
      ]
     },
     "execution_count": 10,
     "metadata": {},
     "output_type": "execute_result"
    }
   ],
   "source": [
    "# convert physical outputs from dataframe to numpy and apply preprocessing\n",
    "data_sim = np.copy(df_sim.to_numpy()[:,1:])\n",
    "data_sim = preprocess_sim(data_sim)\n",
    "training_dataset['data_sim'] = data_sim\n",
    "training_dataset['data_sim'].shape\n"
   ]
  },
  {
   "cell_type": "code",
   "execution_count": 11,
   "id": "1564a42c-abcf-4fcd-ace1-e4a0ce009e65",
   "metadata": {
    "execution": {
     "iopub.execute_input": "2022-12-04T22:29:39.849635Z",
     "iopub.status.busy": "2022-12-04T22:29:39.848637Z",
     "iopub.status.idle": "2022-12-04T22:29:39.996446Z",
     "shell.execute_reply": "2022-12-04T22:29:39.995488Z",
     "shell.execute_reply.started": "2022-12-04T22:29:39.849635Z"
    },
    "tags": []
   },
   "outputs": [
    {
     "data": {
      "text/plain": [
       "(1923251, 44)"
      ]
     },
     "execution_count": 11,
     "metadata": {},
     "output_type": "execute_result"
    }
   ],
   "source": [
    "# stack inputs and physical outputs together in data\n",
    "data = np.hstack((data_meas, data_sim))\n",
    "training_dataset['data'] = data\n",
    "data.shape"
   ]
  },
  {
   "cell_type": "code",
   "execution_count": 12,
   "id": "e2657ed1-306c-4f54-aea8-cd6bb97a9d4f",
   "metadata": {
    "execution": {
     "iopub.execute_input": "2022-12-04T22:29:41.367548Z",
     "iopub.status.busy": "2022-12-04T22:29:41.367548Z",
     "iopub.status.idle": "2022-12-04T22:29:41.959665Z",
     "shell.execute_reply": "2022-12-04T22:29:41.959665Z",
     "shell.execute_reply.started": "2022-12-04T22:29:41.367548Z"
    },
    "tags": []
   },
   "outputs": [
    {
     "data": {
      "text/plain": [
       "(1923251, 1)"
      ]
     },
     "execution_count": 12,
     "metadata": {},
     "output_type": "execute_result"
    }
   ],
   "source": [
    "# measured outputs\n",
    "training_dataset['y_raw'] = np.copy(df_meas.to_numpy()[:,41] + df_meas.to_numpy()[:,40])\n",
    "training_dataset['y'] = np.expand_dims(preprocess_output(training_dataset['y_raw']), axis=1)\n",
    "\n",
    "# predicted outputs from physical model\n",
    "yhat_phys_raw = np.copy(df_sim.to_numpy()[:,1])\n",
    "training_dataset['yhat_phys_raw'] = np.clip(yhat_phys_raw, 0, 6000) # remove large values\n",
    "training_dataset['yhat_phys'] = np.expand_dims(preprocess_output(training_dataset['yhat_phys_raw']), axis=1)\n",
    "\n",
    "training_dataset['y'].shape"
   ]
  },
  {
   "cell_type": "code",
   "execution_count": 13,
   "id": "6f7783b5-d26a-476e-8fc4-d0267c5461a5",
   "metadata": {
    "execution": {
     "iopub.execute_input": "2022-12-04T22:29:44.420286Z",
     "iopub.status.busy": "2022-12-04T22:29:44.420286Z",
     "iopub.status.idle": "2022-12-04T22:29:46.701861Z",
     "shell.execute_reply": "2022-12-04T22:29:46.701861Z",
     "shell.execute_reply.started": "2022-12-04T22:29:44.420286Z"
    },
    "tags": []
   },
   "outputs": [
    {
     "name": "stdout",
     "output_type": "stream",
     "text": [
      "torch.Size([1923251, 44])\n",
      "torch.Size([1923251, 1])\n"
     ]
    }
   ],
   "source": [
    "# convert to tensor objects\n",
    "training_dataset['data_torch'] = torch.tensor(training_dataset['data'], dtype=torch.float, device=device)\n",
    "training_dataset['y_torch'] = torch.tensor(training_dataset['y'], dtype=torch.float, device=device)\n",
    "\n",
    "print(training_dataset['data_torch'].size())\n",
    "print(training_dataset['y_torch'].size())"
   ]
  },
  {
   "cell_type": "code",
   "execution_count": 14,
   "id": "6c241082-7fb2-447e-8a9d-9ccae3f7c6e7",
   "metadata": {
    "execution": {
     "iopub.execute_input": "2022-12-04T22:29:53.708124Z",
     "iopub.status.busy": "2022-12-04T22:29:53.708124Z",
     "iopub.status.idle": "2022-12-04T22:29:53.763115Z",
     "shell.execute_reply": "2022-12-04T22:29:53.762153Z",
     "shell.execute_reply.started": "2022-12-04T22:29:53.708124Z"
    },
    "tags": []
   },
   "outputs": [
    {
     "name": "stdout",
     "output_type": "stream",
     "text": [
      "[   0.  560.  604. 1524. 1526. 1570. 2053. 3465. 3502.]\n",
      "[215785 204919 206050 199246 187092 191688 251936 268745 197790]\n"
     ]
    }
   ],
   "source": [
    "# verify that balanced data is indeed balanced\n",
    "values, counts = np.unique(training_dataset['y_raw'], return_counts=True) # --> manual determined\n",
    "print(values)\n",
    "print(counts)"
   ]
  },
  {
   "cell_type": "code",
   "execution_count": 15,
   "id": "ce387910-f7bf-4431-99cb-10cf9f69724b",
   "metadata": {
    "execution": {
     "iopub.execute_input": "2022-12-04T22:30:10.440362Z",
     "iopub.status.busy": "2022-12-04T22:30:10.440362Z",
     "iopub.status.idle": "2022-12-04T22:30:31.355201Z",
     "shell.execute_reply": "2022-12-04T22:30:31.355201Z",
     "shell.execute_reply.started": "2022-12-04T22:30:10.440362Z"
    },
    "tags": []
   },
   "outputs": [
    {
     "name": "stdout",
     "output_type": "stream",
     "text": [
      "Step 39/39\r"
     ]
    },
    {
     "data": {
      "image/png": "[encoded data removed]",
      "text/plain": [
       "<Figure size 1080x2376 with 39 Axes>"
      ]
     },
     "metadata": {},
     "output_type": "display_data"
    }
   ],
   "source": [
    "# plot preprocessed measurement features\n",
    "plt.figure(figsize=(15,33))\n",
    "\n",
    "num_feat = training_dataset['data_meas'].shape[1]\n",
    "for ifeat in range(num_feat):\n",
    "    print(f'Step {ifeat+1}/{num_feat}', end='\\r')\n",
    "    plt.subplot(12, 4, ifeat+1)\n",
    "    plt.hist(training_dataset['data_meas'][:,ifeat], bins=150)\n",
    "\n",
    "plt.tight_layout()\n",
    "plt.show()"
   ]
  },
  {
   "cell_type": "code",
   "execution_count": 16,
   "id": "91a3dd38-1124-4a01-ad91-6e3b78fef311",
   "metadata": {
    "execution": {
     "iopub.execute_input": "2022-12-04T22:30:37.043837Z",
     "iopub.status.busy": "2022-12-04T22:30:37.042837Z",
     "iopub.status.idle": "2022-12-04T22:30:39.880180Z",
     "shell.execute_reply": "2022-12-04T22:30:39.880180Z",
     "shell.execute_reply.started": "2022-12-04T22:30:37.043837Z"
    },
    "tags": []
   },
   "outputs": [
    {
     "name": "stdout",
     "output_type": "stream",
     "text": [
      "Step 5/5\r"
     ]
    },
    {
     "data": {
      "image/png": "[encoded data removed]",
      "text/plain": [
       "<Figure size 1080x2376 with 5 Axes>"
      ]
     },
     "metadata": {},
     "output_type": "display_data"
    }
   ],
   "source": [
    "# plot preprocessed physical features\n",
    "plt.figure(figsize=(15,33))\n",
    "\n",
    "num_feat = training_dataset['data_sim'].shape[1]\n",
    "for ifeat in range(num_feat):\n",
    "    print(f'Step {ifeat+1}/{num_feat}', end='\\r')\n",
    "    plt.subplot(12, 4, ifeat+1)\n",
    "    plt.hist(training_dataset['data_sim'][:,ifeat], bins=150)\n",
    "\n",
    "plt.tight_layout()\n",
    "plt.show()"
   ]
  },
  {
   "cell_type": "code",
   "execution_count": 17,
   "id": "686e772d-2a93-420e-a498-136fc4ee8f3e",
   "metadata": {
    "execution": {
     "iopub.execute_input": "2022-12-04T22:30:56.011880Z",
     "iopub.status.busy": "2022-12-04T22:30:56.011880Z",
     "iopub.status.idle": "2022-12-04T22:30:58.183527Z",
     "shell.execute_reply": "2022-12-04T22:30:58.182527Z",
     "shell.execute_reply.started": "2022-12-04T22:30:56.011880Z"
    },
    "tags": []
   },
   "outputs": [
    {
     "data": {
      "image/png": "[encoded data removed]",
      "text/plain": [
       "<Figure size 1080x2016 with 4 Axes>"
      ]
     },
     "metadata": {},
     "output_type": "display_data"
    }
   ],
   "source": [
    "# plot outputs and predictions of physical model\n",
    "plt.figure(figsize=(15,28))\n",
    "\n",
    "# raw values\n",
    "plt.subplot(11, 4, 1)\n",
    "plt.hist(training_dataset['y_raw'], bins=150)\n",
    "plt.subplot(11, 4, 2)\n",
    "plt.hist(training_dataset['yhat_phys_raw'], bins=150)\n",
    "\n",
    "# transformed values\n",
    "plt.subplot(11, 4, 5)\n",
    "plt.hist(training_dataset['y'], bins=150)\n",
    "plt.subplot(11, 4, 6)\n",
    "plt.hist(training_dataset['yhat_phys'], bins=150)\n",
    "\n",
    "plt.tight_layout()\n",
    "plt.show()"
   ]
  },
  {
   "cell_type": "markdown",
   "id": "8e86026b-742a-406e-886f-ef27ea2c26ef",
   "metadata": {
    "jp-MarkdownHeadingCollapsed": true,
    "tags": []
   },
   "source": [
    "# Test data"
   ]
  },
  {
   "cell_type": "code",
   "execution_count": 18,
   "id": "cac17777-f814-452c-996f-8b7b6d01fbdb",
   "metadata": {
    "execution": {
     "iopub.execute_input": "2022-12-04T22:32:31.551197Z",
     "iopub.status.busy": "2022-12-04T22:32:31.551197Z",
     "iopub.status.idle": "2022-12-04T22:32:32.386870Z",
     "shell.execute_reply": "2022-12-04T22:32:32.385784Z",
     "shell.execute_reply.started": "2022-12-04T22:32:31.551197Z"
    },
    "tags": []
   },
   "outputs": [
    {
     "data": {
      "image/png": "[encoded data removed]",
      "text/plain": [
       "<Figure size 1080x2376 with 4 Axes>"
      ]
     },
     "metadata": {},
     "output_type": "display_data"
    }
   ],
   "source": [
    "# get snippets characteristics and plot them\n",
    "snippets_length, snippets_min, snippets_max = [], [], []\n",
    "\n",
    "for fn_sim in filenames[\"sim_validation\"]:\n",
    "    df_sim = pd.read_csv(fn_sim)\n",
    "    snippets_length.append(len(df_sim))\n",
    "    snippets_min.append(min(df_sim['m_EstimdPayLoadLive_kg']))\n",
    "    snippets_max.append(max(df_sim['m_EstimdPayLoadLive_kg']))\n",
    "    \n",
    "plt.figure(figsize=(15,33))\n",
    "plt.subplot(11, 4, 1)\n",
    "plt.plot(snippets_length)\n",
    "plt.subplot(11, 4, 2)\n",
    "plt.hist(snippets_length, bins=100)\n",
    "plt.subplot(11, 4, 3)\n",
    "plt.hist(snippets_min, bins=100)\n",
    "plt.subplot(11, 4, 4)\n",
    "plt.hist(snippets_max, bins=100)\n",
    "plt.show()"
   ]
  },
  {
   "cell_type": "code",
   "execution_count": 19,
   "id": "1d0e0d59",
   "metadata": {},
   "outputs": [],
   "source": [
    "# create hyptothetical outputs\n",
    "# the numbers are collected from an initial model training by clustering the predicted values\n",
    "# they could also be collected from the physical model (might be a bit less accurate)\n",
    "# they have been manually updated during the training process by Ali\n",
    "\n",
    "#IDEA: the validation test is used for model selection later on. \n",
    "# For final evalution of the method, an independent dataset (that is not considered during trainining) \n",
    "# should be considered.\n",
    "\n",
    "y_raw_cand = np.transpose(np.expand_dims(np.array([1150, 2480, 3050, 3870]), axis=1))"
   ]
  },
  {
   "cell_type": "code",
   "execution_count": 20,
   "id": "9b7bdfb1-fabb-4f28-815e-a0297ccd225e",
   "metadata": {
    "execution": {
     "iopub.execute_input": "2022-12-04T22:31:15.745681Z",
     "iopub.status.busy": "2022-12-04T22:31:15.745681Z",
     "iopub.status.idle": "2022-12-04T22:32:03.409379Z",
     "shell.execute_reply": "2022-12-04T22:32:03.409379Z",
     "shell.execute_reply.started": "2022-12-04T22:31:15.745681Z"
    },
    "tags": []
   },
   "outputs": [],
   "source": [
    "# preprocess test data\n",
    "validation_snippets = [] \n",
    "\n",
    "for fn, fn_sim in zip(filenames[\"data_validation\"], filenames[\"sim_validation\"]):\n",
    "    \n",
    "    # load measurements\n",
    "    df_meas = load_csv_file(fn, rename_columns=rename_columns, reindex_columns=reindex_columns, round_time=True)\n",
    "    data_meas = df_meas.to_numpy()[:,1:40]\n",
    "    data_meas = preprocess_data(data_meas)\n",
    "    \n",
    "    # load outputs from physical model\n",
    "    df_sim = load_csv_file(fn_sim, round_time=True)\n",
    "    data_sim = df_sim.to_numpy()[:,1:]\n",
    "    data_sim = preprocess_sim(data_sim)\n",
    "    yhat_phys_raw = np.copy(df_sim.to_numpy()[:,1])\n",
    "    yhat_phys_raw = np.clip(yhat_phys_raw, 0, 6000)\n",
    "\n",
    "    # save everything needed\n",
    "    data = np.hstack((data_meas, data_sim))\n",
    "    data_dict = {'data':data}\n",
    "    data_dict['data_torch'] = torch.tensor(data, dtype=torch.float, device=device)\n",
    "    data_dict['y_raw_cand'] = np.repeat(y_raw_cand, len(data), axis=0)\n",
    "    data_dict['y_cand'] = np.repeat(preprocess_output(y_raw_cand), len(data), axis=0)\n",
    "    data_dict['yhat_phys_raw'] = yhat_phys_raw\n",
    "    data_dict['fn'] = fn\n",
    "    validation_snippets.append(data_dict)"
   ]
  },
  {
   "cell_type": "code",
   "execution_count": 21,
   "id": "4fb6d8b4-b704-4229-a353-ec54d6a562ed",
   "metadata": {
    "execution": {
     "iopub.execute_input": "2022-12-04T22:32:11.264665Z",
     "iopub.status.busy": "2022-12-04T22:32:11.263667Z",
     "iopub.status.idle": "2022-12-04T22:32:11.278663Z",
     "shell.execute_reply": "2022-12-04T22:32:11.278663Z",
     "shell.execute_reply.started": "2022-12-04T22:32:11.264665Z"
    },
    "scrolled": true,
    "tags": []
   },
   "outputs": [
    {
     "name": "stdout",
     "output_type": "stream",
     "text": [
      "Number of test snippets: 6645\n",
      "Number of time points in first snippet: 39\n",
      "Number of features: 44\n"
     ]
    }
   ],
   "source": [
    "print('Number of test snippets: %d'%len(validation_snippets))\n",
    "print('Number of time points in first snippet: %d'%validation_snippets[0]['data'].shape[0])\n",
    "print('Number of features: %d'%validation_snippets[0]['data'].shape[1])"
   ]
  },
  {
   "cell_type": "markdown",
   "id": "f9ee9277-1bb9-416b-9e65-0b1f4cd0399c",
   "metadata": {
    "jp-MarkdownHeadingCollapsed": true,
    "tags": []
   },
   "source": [
    "# Training"
   ]
  },
  {
   "cell_type": "code",
   "execution_count": 22,
   "id": "fc5b3807-0781-4b72-aa6e-8415faf752f7",
   "metadata": {
    "execution": {
     "iopub.execute_input": "2022-12-04T23:04:16.381015Z",
     "iopub.status.busy": "2022-12-04T23:04:16.381015Z",
     "iopub.status.idle": "2022-12-04T23:04:16.403534Z",
     "shell.execute_reply": "2022-12-04T23:04:16.403534Z",
     "shell.execute_reply.started": "2022-12-04T23:04:16.381015Z"
    },
    "tags": []
   },
   "outputs": [],
   "source": [
    "class Model(nn.Module):\n",
    "    def __init__(self, d_model=45, dim_feedforward=2048, device=device):\n",
    "        super(Model, self).__init__()\n",
    "\n",
    "        # encode time\n",
    "        self.pos_enc = torch.unsqueeze(torch.tensor(np.linspace(0.01, 1, num=100), dtype=torch.float32, device=device), 1)\n",
    "        \n",
    "        # create mask for hiding future inputs\n",
    "        self.src_mask = (torch.triu(torch.ones((100, 100), device=device)) == 1)\n",
    "        self.src_mask = self.src_mask.transpose(0, 1).float()\n",
    "        self.src_mask = self.src_mask.masked_fill(self.src_mask == 0, float('-inf'))\n",
    "        self.src_mask = self.src_mask.masked_fill(self.src_mask == 1, float(0.0))\n",
    "        \n",
    "        # extract temporal features using transformers\n",
    "        #IDEA: It is import to set the flag norm_first to True, otherwise the expected gradients\n",
    "        # close near the output layer are larger hindering optimization\n",
    "        # For more information, see https://arxiv.org/pdf/2002.04745.pdf\n",
    "        self.encoder_layer1 = nn.TransformerEncoderLayer(d_model=d_model, nhead=1, dim_feedforward=dim_feedforward, dropout=0.0, batch_first=True, norm_first=True).to(device)\n",
    "        self.encoder_layer2 = nn.TransformerEncoderLayer(d_model=d_model, nhead=1, dim_feedforward=dim_feedforward, dropout=0.0, batch_first=True, norm_first=True).to(device)\n",
    "        self.encoder_layer3 = nn.TransformerEncoderLayer(d_model=d_model, nhead=1, dim_feedforward=dim_feedforward, dropout=0.0, batch_first=True, norm_first=True).to(device)\n",
    "        \n",
    "        # compute output based on temporal features using a linear layer\n",
    "        self.linear_out = nn.Linear(3*d_model, 1).to(device)\n",
    "\n",
    "    def forward(self, s, device=device, drop=False, training=False, debug=False):\n",
    "        if type(s).__module__ == np.__name__:\n",
    "            s = torch.tensor(s, dtype=torch.float, device=device)\n",
    "\n",
    "        # add positional encoding\n",
    "        pos_enc = self.pos_enc[:s.size()[1]].repeat(s.size()[0], 1, 1)\n",
    "        s = torch.cat((s, pos_enc), 2)\n",
    "        \n",
    "        # propagate through three transformer modules in parallel\n",
    "        v1 = self.encoder_layer1(s, self.src_mask[:s.size()[1],:s.size()[1]])\n",
    "        v2 = self.encoder_layer2(s, self.src_mask[:s.size()[1],:s.size()[1]])\n",
    "        v3 = self.encoder_layer3(s, self.src_mask[:s.size()[1],:s.size()[1]])\n",
    "        v = torch.cat((v1, v2, v3), 2)\n",
    "\n",
    "        # linear output layer\n",
    "        out = self.linear_out(v)\n",
    "\n",
    "        # clamp output when predicting\n",
    "        if training == False:\n",
    "            #IDEA: if predicted values are too large (i.e. physically not meaningful) clamp them \n",
    "            # during testing. Clamping should not be used during training, since it destroys\n",
    "            # gradient information.\n",
    "            return torch.clamp(out, min=-1, max=1.312)\n",
    "        \n",
    "        return out"
   ]
  },
  {
   "cell_type": "code",
   "execution_count": 23,
   "id": "9dbc765b-16ee-4f0e-9c64-85f636ed331e",
   "metadata": {
    "execution": {
     "iopub.execute_input": "2022-12-04T23:04:18.990596Z",
     "iopub.status.busy": "2022-12-04T23:04:18.990596Z",
     "iopub.status.idle": "2022-12-04T23:04:19.018597Z",
     "shell.execute_reply": "2022-12-04T23:04:19.017650Z",
     "shell.execute_reply.started": "2022-12-04T23:04:18.990596Z"
    },
    "tags": []
   },
   "outputs": [
    {
     "name": "stdout",
     "output_type": "stream",
     "text": [
      "Number of parameters: 584755\n"
     ]
    }
   ],
   "source": [
    "model = Model()\n",
    "model.eval()\n",
    "print(f'Number of parameters: {sum(p.numel() for p in model.parameters() if p.requires_grad)}')"
   ]
  },
  {
   "cell_type": "code",
   "execution_count": 24,
   "id": "14b3d043",
   "metadata": {},
   "outputs": [],
   "source": [
    "def run():\n",
    "    # optimize parameters of model\n",
    "    last_checkpoint_step = epoch_length\n",
    "    last_best_step = None\n",
    "    last_save_step = epoch_length\n",
    "    checkpoint_counter = 0\n",
    "    save_counter = 0\n",
    "    rmse_min = 1000\n",
    "    lrs = []\n",
    "\n",
    "    num_points = len(training_dataset['data_torch'])\n",
    "    train_loss, rmse, rmse_raw, std, std_raw = [], [], [], [], []\n",
    "\n",
    "    for _ in range(steps):\n",
    "        # train model\n",
    "        model.train()\n",
    "        data, y = [], []\n",
    "\n",
    "        for i in range(batchsize):\n",
    "            n = np.random.randint(num_points-num_hist)\n",
    "            data.append(training_dataset['data_torch'][n:n+num_hist])\n",
    "            y.append(training_dataset['y_torch'][n:n+num_hist])\n",
    "  \n",
    "        data = torch.stack(data)\n",
    "        y = torch.stack(y)\n",
    "        yhat = model(data, training=True)\n",
    "        loss = torch.sqrt(mse(yhat, y))\n",
    "        train_loss.append(loss.detach().cpu().numpy())\n",
    "        \n",
    "        # evaluate model\n",
    "        with torch.no_grad():\n",
    "            model.eval()\n",
    "            _rmse, _rmse_raw, _std, _std_raw = 0, 0, 0, 0\n",
    "  \n",
    "            for i in range(batchsize):\n",
    "                n = np.random.randint(len(validation_snippets))\n",
    "                x = validation_snippets[n]['data_torch'][None]\n",
    "                y = validation_snippets[n]['y_cand']\n",
    "                y_raw = validation_snippets[n]['y_raw_cand']\n",
    "                yhat = model(x).detach().cpu().numpy()[0]\n",
    "                \n",
    "                _std += np.std(y) # std.dev. over each snippet\n",
    "                _rmse += np.sqrt(np.mean(np.min(np.square(y - yhat), axis=1))) # cluster min\n",
    "            \n",
    "                yhat_raw = decode_output(yhat)\n",
    "                _std_raw += np.std(yhat_raw) # same statistics as before on original space\n",
    "                _rmse_raw += np.sqrt(np.mean(np.min(np.square(yhat_raw - y_raw), axis=1)))\n",
    "        \n",
    "        # collect statistics\n",
    "        rmse.append(_rmse/batchsize)\n",
    "        rmse_raw.append(_rmse_raw/batchsize)\n",
    "        std.append(_std/batchsize)\n",
    "        std_raw.append(_std_raw/batchsize)\n",
    "        \n",
    "        # smooth loss\n",
    "        kernel_size = max(int(len(train_loss)*0.1), int(epoch_length*0.5))\n",
    "        rmse_raw_conv = signal.convolve(rmse_raw[-kernel_size:], np.ones(kernel_size)/kernel_size, mode='valid')\n",
    "        \n",
    "        \n",
    "        if _ >= epoch_length:\n",
    "            # save at regular time points\n",
    "            if (_-last_checkpoint_step) % (round(kernel_size/9)) == 0:\n",
    "                checkpoint_counter += 1\n",
    "                last_checkpoint_step = _\n",
    "                torch.save(model.state_dict(), f'models/checkpoints/checkpoint-{checkpoint_counter % 9}')    \n",
    "       \n",
    "            # copy over current best solution\n",
    "            if rmse_raw_conv[-1] < rmse_min:\n",
    "                rmse_min = rmse_raw_conv[-1]\n",
    "                last_best_step = round(_+1 - kernel_size/2)\n",
    "                last_best_epoch = round(last_best_step/epoch_length, 1)\n",
    "                if last_save_step != last_checkpoint_step:\n",
    "                    last_save_step = last_checkpoint_step\n",
    "                    save_counter = checkpoint_counter\n",
    "                    copy_tree('models/checkpoints', f'models/trained_ensemble')\n",
    "                    \n",
    "            # early stopping criterion\n",
    "            if (len(train_loss) - last_best_step) > max(0.4*len(train_loss), 4*epoch_length):\n",
    "                break\n",
    "        \n",
    "        # perform parameter optimization\n",
    "        optimizer.zero_grad()\n",
    "        loss.backward()\n",
    "        optimizer.step()\n",
    "        if lr_finder == True:\n",
    "            lrs.append(scheduler.get_last_lr())\n",
    "            scheduler.step()\n",
    "        \n",
    "        # print out\n",
    "        if _ > epoch_length:\n",
    "            print(f'Step: {_+1}    Epoch: {round((_+1)/epoch_length, 1)}    min RMSE: {round(rmse_min, 2)}   at Epoch: {last_best_epoch}   at Step: {last_best_step}   Model-No: {(save_counter-4) % 9}   ', end='\\r')\n",
    "        else:\n",
    "            print(f'Step: {_+1}    Epoch: {round((_+1)/epoch_length, 1)}', end='\\r')\n",
    "     \n",
    "    # write statistics out\n",
    "    rv = {}\n",
    "    rv['train_loss'] = train_loss\n",
    "    rv['rmse'] = rmse \n",
    "    rv['rmse_raw'] = rmse_raw\n",
    "    rv['std'] = std\n",
    "    rv['std_raw'] = std_raw\n",
    "    rv['rmse_min'] = rmse_min\n",
    "    rv['save_counter'] = save_counter\n",
    "    rv['last_best_step'] = last_best_step\n",
    "    if lr_finder==True: rv['lrs'] = lrs \n",
    "    model.eval()\n",
    "    return rv"
   ]
  },
  {
   "cell_type": "markdown",
   "id": "520d314d",
   "metadata": {},
   "source": [
    "## Find Best Learning Rate"
   ]
  },
  {
   "cell_type": "code",
   "execution_count": 25,
   "id": "2c13e8f4-2842-48bc-a0bf-cb8c2c33d8f4",
   "metadata": {
    "execution": {
     "iopub.execute_input": "2022-12-04T23:04:19.579645Z",
     "iopub.status.busy": "2022-12-04T23:04:19.579645Z",
     "iopub.status.idle": "2022-12-04T23:04:19.603644Z",
     "shell.execute_reply": "2022-12-04T23:04:19.603644Z",
     "shell.execute_reply.started": "2022-12-04T23:04:19.579645Z"
    },
    "tags": []
   },
   "outputs": [
    {
     "name": "stdout",
     "output_type": "stream",
     "text": [
      "Step: 1202    Epoch: 1.0\r"
     ]
    }
   ],
   "source": [
    "# settings for finding best learning rate\n",
    "batchsize = 16 \n",
    "num_hist = 100\n",
    "mse = nn.MSELoss()\n",
    "\n",
    "epoch_length = int(len(training_dataset['data_torch'])/(num_hist*batchsize))\n",
    "min_steps = 300\n",
    "max_steps = 10000\n",
    "steps = min(max_steps, max(min_steps, epoch_length))\n",
    "\n",
    "optimizer = torch.optim.RAdam(model.parameters(), lr=1e-8)\n",
    "scheduler = torch.optim.lr_scheduler.ExponentialLR(optimizer, gamma=1e6**(1/steps)) \n",
    "lr_finder = True\n",
    "\n",
    "stats_lr = run()"
   ]
  },
  {
   "cell_type": "code",
   "execution_count": 26,
   "id": "be1b244d-f57f-46cd-843d-882b8de28920",
   "metadata": {
    "execution": {
     "iopub.execute_input": "2022-12-04T22:34:59.955760Z",
     "iopub.status.busy": "2022-12-04T22:34:59.954761Z",
     "iopub.status.idle": "2022-12-04T22:35:00.817139Z",
     "shell.execute_reply": "2022-12-04T22:35:00.817139Z",
     "shell.execute_reply.started": "2022-12-04T22:34:59.955760Z"
    },
    "jupyter": {
     "source_hidden": true
    },
    "tags": []
   },
   "outputs": [
    {
     "name": "stdout",
     "output_type": "stream",
     "text": [
      "Learning Rate: 5.564476246478681e-06\n",
      "Learning Rate: 1.1089836027563403e-05\n",
      "Learning Rate: 2.1849136415401033e-05\n"
     ]
    },
    {
     "data": {
      "image/png": "[encoded data removed]",
      "text/plain": [
       "<Figure size 720x216 with 2 Axes>"
      ]
     },
     "metadata": {},
     "output_type": "display_data"
    }
   ],
   "source": [
    "# extract best learning rate\n",
    "kernel_size = int(len(stats_lr['train_loss'])*0.1)\n",
    "lrs = stats_lr['lrs'][int(np.floor(kernel_size/2))-1:-int(np.floor(kernel_size/2))]\n",
    "\n",
    "# training loss is smoothed\n",
    "train_loss_avg = signal.convolve(np.array(stats_lr['train_loss']), np.ones(kernel_size)/kernel_size, mode='valid')\n",
    "\n",
    "# gradient of smoothed loss is computed and smoothed again\n",
    "train_loss_gradient_avg = np.gradient(train_loss_avg)\n",
    "train_loss_gradient_avg = signal.convolve(train_loss_gradient_avg, np.ones(kernel_size)/kernel_size, mode='valid')\n",
    "idx_min = np.argmin(train_loss_gradient_avg) # steepest descent\n",
    "\n",
    "# plot training loss \n",
    "plt.figure(figsize=(10,3))\n",
    "plt.subplot(1, 2, 1).title.set_text(f'Loss')\n",
    "plt.plot(lrs, train_loss_avg)\n",
    "plt.plot(lrs[idx_min], train_loss_avg[idx_min], 'o')\n",
    "plt.plot(lrs[idx_min+int(kernel_size/2)], train_loss_avg[idx_min+int(kernel_size/2)], 'o') \n",
    "plt.plot(lrs[idx_min+kernel_size-1], train_loss_avg[idx_min+kernel_size-1], 'o') \n",
    "plt.semilogx()\n",
    "lr_opt = lrs[idx_min+kernel_size-1][0] # optimum learning rate (shift to right due to smoothing)\n",
    "print(f'Learning Rate: {lrs[idx_min][0]}')\n",
    "print(f'Learning Rate: {lrs[idx_min+int(kernel_size/2)][0]}')\n",
    "print(f'Learning Rate: {lrs[idx_min+kernel_size-1][0]}')\n",
    "plt.semilogy()\n",
    "plt.grid(which='both', axis='y', alpha=0.3)\n",
    "\n",
    "# plot test statistics on untransformed data\n",
    "plt.subplot(1, 2, 2).title.set_text(f'RMSE    Std')\n",
    "plt.plot(signal.convolve(stats_lr['std_raw'], np.ones(kernel_size)/kernel_size, mode='valid'))\n",
    "plt.plot(signal.convolve(stats_lr['rmse_raw'], np.ones(kernel_size)/kernel_size, mode='valid'))\n",
    "plt.grid(which='both', axis='y', alpha=0.3)\n",
    "plt.show()"
   ]
  },
  {
   "cell_type": "markdown",
   "id": "6a5ce84b",
   "metadata": {},
   "source": [
    "## Optimize model"
   ]
  },
  {
   "cell_type": "code",
   "execution_count": 27,
   "id": "25e18b2d",
   "metadata": {},
   "outputs": [
    {
     "name": "stdout",
     "output_type": "stream",
     "text": [
      "Step: 120200    Epoch: 100.0    min RMSE: 98.68   at Epoch: 61.2   at Step: 73602   Model-No: 0   \r"
     ]
    }
   ],
   "source": [
    "lr_finder = False\n",
    "num_epochs = 100 # for final run, consider movin up to 500\n",
    "steps = num_epochs*epoch_length\n",
    "model = Model()\n",
    "optimizer = torch.optim.RAdam(model.parameters(), lr=lr_opt)\n",
    "\n",
    "stats_opt = run()\n",
    "save_counter = stats_opt['save_counter']\n",
    "last_best_step = stats_opt['last_best_step']"
   ]
  },
  {
   "cell_type": "code",
   "execution_count": 28,
   "id": "dd058662",
   "metadata": {},
   "outputs": [
    {
     "name": "stdout",
     "output_type": "stream",
     "text": [
      "Min RMSE: 98.68, at Step: 73542\n",
      "Smoothed Min RMSE: 92.36, at Step: 60843\n"
     ]
    },
    {
     "data": {
      "image/png": "[encoded data removed]",
      "text/plain": [
       "<Figure size 720x216 with 2 Axes>"
      ]
     },
     "metadata": {},
     "output_type": "display_data"
    }
   ],
   "source": [
    "rmse_min = stats_opt['rmse_min']\n",
    "rmse_raw_avg = signal.convolve(stats_opt['rmse_raw'], np.ones(kernel_size)/kernel_size, mode='valid')\n",
    "print(f'Min RMSE: {round(rmse_min, 2)}, at Step: {round(last_best_step-kernel_size/2)}')\n",
    "print(f'Smoothed Min RMSE: {round(min(rmse_raw_avg), 2)}, at Step: {np.argmin(rmse_raw_avg)}')\n",
    "\n",
    "plt.figure(figsize=(10,3))\n",
    "# plot training loss\n",
    "plt.subplot(1, 2, 1).title.set_text(f'Loss    RMSE    Std')\n",
    "plt.plot(train_loss_avg)\n",
    "plt.plot(signal.convolve(stats_opt['std'], np.ones(kernel_size)/kernel_size, mode='valid'))\n",
    "plt.plot(signal.convolve(stats_opt['rmse'], np.ones(kernel_size)/kernel_size, mode='valid'))\n",
    "plt.semilogy()\n",
    "plt.grid(which='both', axis='y', alpha=0.3)\n",
    "\n",
    "# plot statistics on untransformed data\n",
    "plt.subplot(1, 2, 2).title.set_text(f'RMSE raw    Std raw')\n",
    "plt.plot(signal.convolve(stats_opt['std_raw'], np.ones(kernel_size)/kernel_size, mode='valid'))\n",
    "plt.plot(signal.convolve(stats_opt['rmse_raw'], np.ones(kernel_size)/kernel_size, mode='valid'))\n",
    "plt.plot(last_best_step-kernel_size/2, rmse_raw_avg[round(last_best_step-kernel_size/2)], 'o')\n",
    "plt.grid(which='both', axis='y', alpha=0.3)\n",
    "plt.show()"
   ]
  },
  {
   "cell_type": "markdown",
   "id": "c92270b2-89c6-4ec2-b8a9-b03c94150357",
   "metadata": {
    "jp-MarkdownHeadingCollapsed": true,
    "tags": []
   },
   "source": [
    "# Predictions"
   ]
  },
  {
   "cell_type": "code",
   "execution_count": 29,
   "id": "bd19b821",
   "metadata": {},
   "outputs": [],
   "source": [
    "ensemble = False\n",
    "num_hist = 100 "
   ]
  },
  {
   "cell_type": "code",
   "execution_count": 30,
   "id": "8477594f",
   "metadata": {},
   "outputs": [],
   "source": [
    "def average_n(s, n=100):\n",
    "    #IDEA: smooth prediction over n time steps\n",
    "    # how-to: average over last n positions or fewer if otherwise not possible\n",
    "    if isinstance(object, list) or s.ndim < 3:\n",
    "        new = np.empty(len(s))\n",
    "        for _ in range(len(s)):\n",
    "            new[_] = np.mean(s[max(0, _+1-n):_+1])\n",
    "        return new\n",
    "    else:\n",
    "        if s.ndim == 3:\n",
    "            new = np.ones_like(s)\n",
    "            for _ in range(s.shape[0]):\n",
    "                for i in range(s.shape[1]):\n",
    "                    new[_][i] = np.mean(s[_][max(0, i+1-n):i+1])\n",
    "            return new"
   ]
  },
  {
   "cell_type": "code",
   "execution_count": 31,
   "id": "080f07c9",
   "metadata": {},
   "outputs": [],
   "source": [
    "def predict(x, ensemble=True):\n",
    "    #IDEA: smooth prediction by using an ensemble of methods\n",
    "    # if ensemble=True (default), use a model ensemble for prediction. Otherwise, use the model specified in the variable\n",
    "    # save counter\n",
    "    if ensemble: \n",
    "        checkpoints = range(9)\n",
    "    else:\n",
    "        checkpoints = [save_counter]\n",
    "        \n",
    "    out_ensemble = []\n",
    "    out_dec_ensemble = []\n",
    "    for i in checkpoints:\n",
    "        model.load_state_dict(torch.load(f'models/trained_ensemble/checkpoint-{(i-0) % 9}'))\n",
    "        out = model(x).detach().cpu().numpy()\n",
    "        out_dec = decode_output(out)\n",
    "        \n",
    "        out_ensemble.append(out)\n",
    "        out_dec_ensemble.append(out_dec)\n",
    "        \n",
    "    out_ensemble = np.mean(np.array(out_ensemble), axis=0)\n",
    "    out_dec_ensemble = np.mean(np.array(out_dec_ensemble), axis=0)\n",
    "    return out_ensemble, out_dec_ensemble"
   ]
  },
  {
   "cell_type": "code",
   "execution_count": 32,
   "id": "a08c6ebc-3a77-40a6-81d0-f7bedec14d17",
   "metadata": {
    "execution": {
     "iopub.execute_input": "2022-12-04T23:18:52.749762Z",
     "iopub.status.busy": "2022-12-04T23:18:52.748763Z",
     "iopub.status.idle": "2022-12-04T23:18:55.264612Z",
     "shell.execute_reply": "2022-12-04T23:18:55.264612Z",
     "shell.execute_reply.started": "2022-12-04T23:18:52.749762Z"
    },
    "tags": []
   },
   "outputs": [
    {
     "name": "stdout",
     "output_type": "stream",
     "text": [
      "38/38\r"
     ]
    }
   ],
   "source": [
    "# predict training data\n",
    "yhat = []\n",
    "yhat_raw = []\n",
    "\n",
    "batchsize = 506 \n",
    "num_batches = math.floor(len(training_dataset['data_torch'])/num_hist/batchsize)\n",
    "num_total = num_hist * batchsize * num_batches\n",
    "\n",
    "for ibatch in range(num_batches):\n",
    "    print(f'{ibatch+1}/{num_batches}', end='\\r')\n",
    "    data = training_dataset['data_torch'][num_hist*batchsize*ibatch:num_hist*batchsize*(ibatch+1)]\n",
    "    data = torch.reshape(data, (batchsize, num_hist, -1))\n",
    "    _yhat, _yhat_raw = predict(data, ensemble=ensemble)\n",
    "    yhat.extend(_yhat)\n",
    "    yhat_raw.extend(_yhat_raw)\n",
    "\n",
    "yhat = np.reshape(yhat, (num_batches * batchsize, num_hist))\n",
    "yhat_raw = np.reshape(yhat_raw, (num_batches * batchsize, num_hist))"
   ]
  },
  {
   "cell_type": "code",
   "execution_count": 33,
   "id": "3b2fce54",
   "metadata": {},
   "outputs": [],
   "source": [
    "# statistics on transformed outputs\n",
    "yhat_std = np.std(yhat, axis=1)\n",
    "y = np.reshape(training_dataset['y'][:num_total], (batchsize * num_batches, num_hist))\n",
    "rmse = np.sqrt(np.mean(np.square(y-yhat), axis=1))\n",
    "yhat_flatten = yhat.flatten()\n",
    "\n",
    "# statistics on raw outputs\n",
    "yhat_raw_std = np.std(yhat_raw, axis=1)\n",
    "y_raw = np.reshape(training_dataset['y_raw'][:num_total], (batchsize * num_batches, num_hist))\n",
    "rmse_raw = np.sqrt(np.mean(np.square(y_raw - yhat_raw), axis=1))\n",
    "yhat_raw_flatten = yhat_raw.flatten()"
   ]
  },
  {
   "cell_type": "code",
   "execution_count": 34,
   "id": "421d0f2f-b690-4972-8219-d3ea93e964c3",
   "metadata": {
    "execution": {
     "iopub.execute_input": "2022-12-04T23:19:24.816185Z",
     "iopub.status.busy": "2022-12-04T23:19:24.816185Z",
     "iopub.status.idle": "2022-12-04T23:19:30.437640Z",
     "shell.execute_reply": "2022-12-04T23:19:30.437640Z",
     "shell.execute_reply.started": "2022-12-04T23:19:24.816185Z"
    },
    "jupyter": {
     "source_hidden": true
    },
    "tags": []
   },
   "outputs": [
    {
     "data": {
      "image/png": "[encoded data removed]",
      "text/plain": [
       "<Figure size 1080x2016 with 8 Axes>"
      ]
     },
     "metadata": {},
     "output_type": "display_data"
    }
   ],
   "source": [
    "plt.figure(figsize=(15,28))\n",
    "\n",
    "# predictions in transformed space\n",
    "plt.subplot(12, 5, 1).title.set_text(f'Prediction')\n",
    "plt.hist(yhat_flatten, bins=150)\n",
    "plt.subplot(12, 5, 2).title.set_text('Label')\n",
    "plt.hist(training_dataset['y'], bins=150)\n",
    "plt.subplot(12, 5, 3).title.set_text(f'RMSE: {str(round(np.mean(rmse), 2))}')\n",
    "plt.hist(rmse, bins=150)\n",
    "plt.subplot(12, 5, 4).title.set_text(f'Std: {str(round(np.mean(yhat_std), 2))}')\n",
    "plt.hist(yhat_std, bins=150)\n",
    "\n",
    "# predictions in original space\n",
    "plt.subplot(12, 5, 6).title.set_text(f'Prediction raw')\n",
    "plt.hist(yhat_raw_flatten, bins=150)\n",
    "plt.subplot(12, 5, 7).title.set_text('Label raw')\n",
    "plt.hist(training_dataset['y_raw'], bins=150)\n",
    "plt.subplot(12, 5, 8).title.set_text(f'RMSE raw: {str(round(np.mean(rmse_raw), 2))}')\n",
    "plt.hist(rmse_raw, bins=150)\n",
    "plt.subplot(12, 5, 9).title.set_text(f'Std raw: {str(round(np.mean(yhat_raw_std), 2))}')\n",
    "plt.hist(yhat_raw_std, bins=150)\n",
    "\n",
    "plt.tight_layout()\n",
    "plt.show()"
   ]
  },
  {
   "cell_type": "code",
   "execution_count": 35,
   "id": "ca4ea014-50e4-4947-85ff-7413b90448af",
   "metadata": {
    "execution": {
     "iopub.execute_input": "2022-12-04T23:19:35.361742Z",
     "iopub.status.busy": "2022-12-04T23:19:35.361742Z",
     "iopub.status.idle": "2022-12-04T23:19:43.666600Z",
     "shell.execute_reply": "2022-12-04T23:19:43.666600Z",
     "shell.execute_reply.started": "2022-12-04T23:19:35.361742Z"
    },
    "tags": []
   },
   "outputs": [
    {
     "name": "stdout",
     "output_type": "stream",
     "text": [
      "6645/6645\r"
     ]
    }
   ],
   "source": [
    "# predictions on test data \n",
    "yhat_raw, yhat_phys_raw, std, rmse, yhat_raw_avg, std_avg, rmse_avg = [], [], [], [], [], [], []\n",
    "\n",
    "num_validation_snippets = len(validation_snippets)\n",
    "for _, validation_snippet in enumerate(validation_snippets):\n",
    "    \n",
    "    print(f'{_+1}/{num_validation_snippets}', end='\\r')\n",
    "    _, _yhat_raw = predict(validation_snippet['data_torch'][None], ensemble=ensemble)\n",
    "    _y_raw = validation_snippet['y_raw_cand']\n",
    "    _yhat_phys_raw = validation_snippet['yhat_phys_raw']\n",
    "    \n",
    "    yhat_raw.extend(_yhat_raw.flatten())\n",
    "    yhat_phys_raw.extend(_yhat_phys_raw.flatten())\n",
    "    std.extend(np.std(_yhat_raw, axis=1).flatten())\n",
    "    rmse.extend(np.sqrt(np.mean(np.min(np.square(_y_raw - _yhat_raw), axis=2), axis=1)).flatten())\n",
    "    \n",
    "    _yhat_raw_avg = average_n(_yhat_raw)\n",
    "    yhat_raw_avg.extend(_yhat_raw_avg.flatten())\n",
    "    \n",
    "    std_avg.extend(np.std(_yhat_raw_avg, axis=1).flatten())\n",
    "    rmse_avg.extend(np.sqrt(np.mean(np.min(np.square(_y_raw - _yhat_raw_avg), axis=2), axis=1)).flatten())\n",
    "\n",
    "yhat_phys_raw = np.array(yhat_phys_raw)"
   ]
  },
  {
   "cell_type": "code",
   "execution_count": 36,
   "id": "1503dc09-c8eb-48fa-b382-5ad831fbcd56",
   "metadata": {
    "execution": {
     "iopub.execute_input": "2022-12-04T23:20:22.019494Z",
     "iopub.status.busy": "2022-12-04T23:20:22.019494Z",
     "iopub.status.idle": "2022-12-04T23:20:31.299604Z",
     "shell.execute_reply": "2022-12-04T23:20:31.298632Z",
     "shell.execute_reply.started": "2022-12-04T23:20:22.019494Z"
    },
    "jupyter": {
     "source_hidden": true
    },
    "tags": []
   },
   "outputs": [
    {
     "data": {
      "image/png": "[encoded data removed]",
      "text/plain": [
       "<Figure size 1080x3240 with 8 Axes>"
      ]
     },
     "metadata": {},
     "output_type": "display_data"
    }
   ],
   "source": [
    "plt.figure(figsize=(15,45))\n",
    "\n",
    "plt.subplot(16, 4, 1).title.set_text('Prediction')\n",
    "plt.hist(yhat_raw, bins=150)\n",
    "plt.subplot(16, 4, 2).title.set_text('Simulation')\n",
    "plt.hist(yhat_phys_raw[yhat_phys_raw < 5000], bins=150)\n",
    "# plt.hist(np.repeat(np.array([0, 1150, 2480, 2570, 3050, 3870, 5000]), 500, axis=0), bins=150)\n",
    "plt.subplot(16, 4, 3).title.set_text(f'RMSE: {str(round(np.mean(rmse), 2))}')\n",
    "plt.hist(rmse, bins=150)\n",
    "plt.subplot(16, 4, 4).title.set_text(f'Std: {str(round(np.mean(std), 2))}')\n",
    "plt.hist(std, bins=150)\n",
    "\n",
    "plt.subplot(16, 4, 5).title.set_text('Prediction avg')\n",
    "plt.hist(yhat_raw_avg, bins=150)\n",
    "# plt.hist(np.repeat(np.array([0, 1150, 2480, 2570, 3050, 3870, 5000]), 35000, axis=0), bins=150)\n",
    "plt.subplot(16, 4, 6).title.set_text('Simulation')\n",
    "plt.hist(yhat_phys_raw[yhat_phys_raw < 5000], bins=150)\n",
    "plt.subplot(16, 4, 7).title.set_text(f'RMSE avg: {round(np.mean(rmse_avg), 2)}')\n",
    "plt.hist(rmse_avg, bins=150)\n",
    "plt.subplot(16, 4, 8).title.set_text(f'Std avg: {str(round(np.mean(std_avg), 2))}')\n",
    "plt.hist(std_avg, bins=150)\n",
    "\n",
    "\n",
    "plt.tight_layout()\n",
    "plt.show()"
   ]
  },
  {
   "cell_type": "markdown",
   "id": "acd2cfc3-f402-48b2-877a-f8ba0026c201",
   "metadata": {
    "jp-MarkdownHeadingCollapsed": true,
    "tags": []
   },
   "source": [
    "# Creating Plots"
   ]
  },
  {
   "cell_type": "code",
   "execution_count": 37,
   "id": "ac16cf1b-993a-41b4-a068-14bdddb0240c",
   "metadata": {
    "execution": {
     "iopub.execute_input": "2022-12-04T23:22:27.705700Z",
     "iopub.status.busy": "2022-12-04T23:22:27.704700Z",
     "iopub.status.idle": "2022-12-04T23:22:34.338660Z",
     "shell.execute_reply": "2022-12-04T23:22:34.338660Z",
     "shell.execute_reply.started": "2022-12-04T23:22:27.705700Z"
    },
    "tags": []
   },
   "outputs": [
    {
     "name": "stdout",
     "output_type": "stream",
     "text": [
      "Step 51/51\r"
     ]
    }
   ],
   "source": [
    "# load data\n",
    "y_raw_list, time_list, yhat_phys_raw_list, data_torch_list = [], [], [], []\n",
    "num_files = len(filenames[\"data_training_org\"])\n",
    "for _, (fn, fn_sim) in enumerate(zip(filenames[\"data_training_org\"], filenames[\"sim_training_org\"])):\n",
    "    print(f'Step {_+1}/{num_files}', end='\\r')\n",
    "    # load inputs\n",
    "    df_meas = load_csv_file(fn, rename_columns=rename_columns, reindex_columns=reindex_columns, round_time=True)\n",
    "    data_meas = df_meas.to_numpy()[:,1:40]\n",
    "    data_meas = preprocess_data(data_meas)\n",
    "    \n",
    "    # load physical outputs\n",
    "    df_sim = load_csv_file(fn_sim, round_time=True)\n",
    "    data_sim = df_sim.to_numpy()[:,1:]\n",
    "    data_sim = preprocess_sim(data_sim)\n",
    "    \n",
    "    # stack together\n",
    "    data = np.hstack((data_meas, data_sim))\n",
    "    data_torch = torch.tensor(data, dtype=torch.float, device=device)\n",
    "    \n",
    "    # predicted output from physical model\n",
    "    yhat_phys_raw = np.copy(df_sim.to_numpy()[:,1])\n",
    "    yhat_phys_raw = np.clip(yhat_phys_raw, 0, 6000)\n",
    "    \n",
    "    # true output\n",
    "    y_raw = np.copy(df_meas.to_numpy())[:,41] + np.copy(df_meas.to_numpy())[:,40]\n",
    "    time = np.copy(df_sim.to_numpy()[:,0])\n",
    "\n",
    "    y_raw_list.append(y_raw)\n",
    "    time_list.append(time)    \n",
    "    yhat_phys_raw_list.append(yhat_phys_raw)\n",
    "    data_torch_list.append(data_torch)"
   ]
  },
  {
   "cell_type": "code",
   "execution_count": 38,
   "id": "895ee418-98a6-4e13-ac32-0ffb684372cd",
   "metadata": {
    "execution": {
     "iopub.execute_input": "2022-12-04T23:22:38.093847Z",
     "iopub.status.busy": "2022-12-04T23:22:38.092841Z",
     "iopub.status.idle": "2022-12-04T23:23:00.272178Z",
     "shell.execute_reply": "2022-12-04T23:23:00.272178Z",
     "shell.execute_reply.started": "2022-12-04T23:22:38.093847Z"
    },
    "scrolled": true,
    "tags": []
   },
   "outputs": [
    {
     "name": "stdout",
     "output_type": "stream",
     "text": [
      "Step 51/51\r"
     ]
    }
   ],
   "source": [
    "# run predictions\n",
    "batchsize = 200\n",
    "\n",
    "yhat_raw_list = []\n",
    "yhat_raw_avg_list = []\n",
    "for ifile in range(num_files):\n",
    "    print(f'Step {ifile+1}/{num_files}', end='\\r')\n",
    "    # batch trajectory in snippets of length 200 for efficiency\n",
    "    n = math.floor(data_torch_list[ifile].size()[0]/num_hist)\n",
    "    n_temp = n\n",
    "    yhat_raw = []\n",
    "    for i in range(math.ceil(n/batchsize)):\n",
    "        if n_temp >= batchsize:\n",
    "            data = data_torch_list[ifile][batchsize*num_hist*i:batchsize*num_hist*(i+1)]\n",
    "            data = torch.reshape(data, (batchsize, num_hist, -1))\n",
    "            n_temp -= batchsize\n",
    "        else:\n",
    "            data = data_torch_list[ifile][batchsize*num_hist*i:batchsize*num_hist*i+100*n_temp]\n",
    "            data = torch.reshape(data, (n_temp, num_hist, -1))\n",
    "            \n",
    "        _, _yhat_raw = predict(data, ensemble=ensemble)\n",
    "        yhat_raw.append(_yhat_raw)\n",
    "\n",
    "    yhat_raw = np.vstack(np.vstack(yhat_raw))\n",
    "    yhat_raw_list.append(yhat_raw)\n",
    "    yhat_raw_avg = average_n(yhat_raw)\n",
    "    yhat_raw_avg_list.append(yhat_raw_avg)"
   ]
  },
  {
   "cell_type": "code",
   "execution_count": 39,
   "id": "38edac47-5b03-4ebf-b024-fb0912d818c7",
   "metadata": {
    "execution": {
     "iopub.execute_input": "2022-12-04T23:25:13.816578Z",
     "iopub.status.busy": "2022-12-04T23:25:13.816578Z",
     "iopub.status.idle": "2022-12-04T23:25:28.770196Z",
     "shell.execute_reply": "2022-12-04T23:25:28.770196Z",
     "shell.execute_reply.started": "2022-12-04T23:25:13.816578Z"
    },
    "tags": []
   },
   "outputs": [
    {
     "name": "stdout",
     "output_type": "stream",
     "text": [
      "Step 51/51\r"
     ]
    },
    {
     "data": {
      "text/plain": [
       "<Figure size 1000x500 with 0 Axes>"
      ]
     },
     "metadata": {},
     "output_type": "display_data"
    }
   ],
   "source": [
    "# plot\n",
    "plt.style.use('default')\n",
    "plt.figure(figsize=(10,5))\n",
    "\n",
    "for _ in range(num_files):\n",
    "    print(f'Step {_+1}/{num_files}', end='\\r')\n",
    "    N = len(yhat_raw_avg_list[_])\n",
    "    plt.plot(time_list[_][num_hist:N], yhat_phys_raw_list[_][num_hist:N], label='phys sim', alpha=0.9)\n",
    "    plt.plot(time_list[_][num_hist:N], yhat_raw_avg_list[_][num_hist:N], label='prediction')\n",
    "    plt.plot(time_list[_][num_hist:N], y_raw_list[_][num_hist:N], label='meas')\n",
    "    plt.xlabel('Time [s]')\n",
    "    plt.ylabel('Payload [kg]')\n",
    "    plt.legend(loc=\"upper left\")\n",
    "    plt.tight_layout()\n",
    "    plt.savefig(f'out/figures/{filenames[\"data_training_org\"][_][21:-4]}.png', bbox_inches='tight')\n",
    "    plt.clf()\n",
    "\n",
    "plt.style.use('dark_background')"
   ]
  },
  {
   "cell_type": "markdown",
   "id": "189dff9a-897d-499c-ae64-46e17fbcb1bf",
   "metadata": {
    "jp-MarkdownHeadingCollapsed": true,
    "tags": []
   },
   "source": [
    "# Create Submission"
   ]
  },
  {
   "cell_type": "code",
   "execution_count": 40,
   "id": "17a8b42a-448d-4927-8b0b-8b4ba6ac8738",
   "metadata": {
    "scrolled": true,
    "tags": []
   },
   "outputs": [
    {
     "name": "stdout",
     "output_type": "stream",
     "text": [
      "6645/6645\r"
     ]
    },
    {
     "data": {
      "text/plain": [
       "'C:\\\\Users\\\\rab2rng\\\\Documents\\\\PayloadEstimation\\\\Ali_solution\\\\out\\\\predictions.zip'"
      ]
     },
     "execution_count": 40,
     "metadata": {},
     "output_type": "execute_result"
    }
   ],
   "source": [
    "# create zip file in order to upload predictions to leaderboard\n",
    "\n",
    "num_test_snippets = len(filenames[\"data_validation\"])\n",
    "for _, (fn, fn_sim) in enumerate(zip(filenames[\"data_validation\"], filenames[\"sim_validation\"])):\n",
    "    print(f'{_+1}/{num_test_snippets}', end='\\r')\n",
    "    fn_pred = 'pred-' + fn[21:]\n",
    "    # load inputs\n",
    "    df_meas = load_csv_file(fn, rename_columns=rename_columns, reindex_columns=reindex_columns, round_time=True)\n",
    "    data_meas = df_meas.to_numpy()[:,1:40]\n",
    "    data_meas = preprocess_data(data_meas)\n",
    "\n",
    "    # load physical outputs\n",
    "    df_sim = load_csv_file(fn_sim, round_time=True)\n",
    "    data_sim = df_sim.to_numpy()[:,1:]\n",
    "    data_sim = preprocess_sim(data_sim)\n",
    "    \n",
    "    # stack together\n",
    "    data = np.hstack((data_meas, data_sim))\n",
    "    data_torch = torch.tensor(data, dtype=torch.float, device=device)\n",
    "    \n",
    "    # predict\n",
    "    _, yhat_raw = predict(data_torch[None], ensemble=ensemble)\n",
    "    df_meas['prediction'] = average_n(yhat_raw[0])\n",
    "    \n",
    "    # save\n",
    "    df_pred = df_meas[['time', 'prediction']]\n",
    "    df_pred.to_csv('out/predictions/' + fn_pred, index=False)\n",
    "\n",
    "shutil.make_archive('out/predictions', 'zip', 'out/predictions/')"
   ]
  },
  {
   "cell_type": "code",
   "execution_count": null,
   "id": "b422b6b9",
   "metadata": {},
   "outputs": [],
   "source": []
  }
 ],
 "metadata": {
  "kernelspec": {
   "display_name": "Python 3 (ipykernel)",
   "language": "python",
   "name": "python3"
  },
  "language_info": {
   "codemirror_mode": {
    "name": "ipython",
    "version": 3
   },
   "file_extension": ".py",
   "mimetype": "text/x-python",
   "name": "python",
   "nbconvert_exporter": "python",
   "pygments_lexer": "ipython3",
   "version": "3.7.0"
  }
 },
 "nbformat": 4,
 "nbformat_minor": 5
}
